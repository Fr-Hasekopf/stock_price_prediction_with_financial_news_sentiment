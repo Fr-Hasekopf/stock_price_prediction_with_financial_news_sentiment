{
  "nbformat": 4,
  "nbformat_minor": 0,
  "metadata": {
    "colab": {
      "name": "Copy of Financial Sentiment Analysis and Stock Prediction.ipynb",
      "provenance": [],
      "collapsed_sections": []
    },
    "kernelspec": {
      "name": "python3",
      "display_name": "Python 3"
    },
    "language_info": {
      "name": "python"
    }
  },
  "cells": [
    {
      "cell_type": "markdown",
      "source": [
        "# LSTM model test and analysis\n"
      ],
      "metadata": {
        "id": "0C5WN7BcsnLY"
      }
    },
    {
      "cell_type": "code",
      "source": [
        "### Data Collection\n",
        "import pandas_datareader as pdr\n",
        "key=\"6cc842206360b89326f1288260ff05ae2da266d0\""
      ],
      "metadata": {
        "id": "Aq1jtWDYveVu"
      },
      "execution_count": null,
      "outputs": []
    },
    {
      "cell_type": "code",
      "source": [
        "df = pdr.get_data_tiingo('AAPL', api_key=key)"
      ],
      "metadata": {
        "colab": {
          "base_uri": "https://localhost:8080/"
        },
        "id": "M7wJPOR1xSbs",
        "outputId": "2fe82c30-dc87-45b5-d9ba-a63947b76b21"
      },
      "execution_count": null,
      "outputs": [
        {
          "output_type": "stream",
          "name": "stderr",
          "text": [
            "/usr/local/lib/python3.7/dist-packages/pandas_datareader/tiingo.py:234: FutureWarning: In a future version of pandas all arguments of concat except for the argument 'objs' will be keyword-only\n",
            "  return pd.concat(dfs, self._concat_axis)\n"
          ]
        }
      ]
    },
    {
      "cell_type": "code",
      "source": [
        "df.to_csv('AAPL.csv')"
      ],
      "metadata": {
        "id": "6XYA3XTpzb6N"
      },
      "execution_count": null,
      "outputs": []
    },
    {
      "cell_type": "code",
      "source": [
        "import pandas as pd"
      ],
      "metadata": {
        "id": "VV1N_tF6zerE"
      },
      "execution_count": null,
      "outputs": []
    },
    {
      "cell_type": "code",
      "source": [
        "df=pd.read_csv('AAPL.csv')"
      ],
      "metadata": {
        "id": "t72Zak-R0RK8"
      },
      "execution_count": null,
      "outputs": []
    },
    {
      "cell_type": "code",
      "source": [
        "df.tail()"
      ],
      "metadata": {
        "colab": {
          "base_uri": "https://localhost:8080/",
          "height": 206
        },
        "id": "MvHY-56R0TyT",
        "outputId": "13bbd9a0-1884-4a8f-fabd-be3430ec7590"
      },
      "execution_count": null,
      "outputs": [
        {
          "output_type": "execute_result",
          "data": {
            "text/plain": [
              "     symbol                       date   close    high     low    open  \\\n",
              "1253   AAPL  2022-05-27 00:00:00+00:00  149.64  149.68  145.26  145.39   \n",
              "1254   AAPL  2022-05-31 00:00:00+00:00  148.84  150.66  146.84  149.07   \n",
              "1255   AAPL  2022-06-01 00:00:00+00:00  148.71  151.74  147.68  149.90   \n",
              "1256   AAPL  2022-06-02 00:00:00+00:00  151.21  151.27  146.86  147.83   \n",
              "1257   AAPL  2022-06-03 00:00:00+00:00  145.38  147.97  144.46  146.90   \n",
              "\n",
              "         volume  adjClose  adjHigh  adjLow  adjOpen  adjVolume  divCash  \\\n",
              "1253   90978503    149.64   149.68  145.26   145.39   90978503      0.0   \n",
              "1254  103718416    148.84   150.66  146.84   149.07  103718416      0.0   \n",
              "1255   74286635    148.71   151.74  147.68   149.90   74286635      0.0   \n",
              "1256   72348055    151.21   151.27  146.86   147.83   72348055      0.0   \n",
              "1257   88570289    145.38   147.97  144.46   146.90   88570289      0.0   \n",
              "\n",
              "      splitFactor  \n",
              "1253          1.0  \n",
              "1254          1.0  \n",
              "1255          1.0  \n",
              "1256          1.0  \n",
              "1257          1.0  "
            ],
            "text/html": [
              "\n",
              "  <div id=\"df-75957d11-1f3d-40d6-be29-7ef6d3d4c388\">\n",
              "    <div class=\"colab-df-container\">\n",
              "      <div>\n",
              "<style scoped>\n",
              "    .dataframe tbody tr th:only-of-type {\n",
              "        vertical-align: middle;\n",
              "    }\n",
              "\n",
              "    .dataframe tbody tr th {\n",
              "        vertical-align: top;\n",
              "    }\n",
              "\n",
              "    .dataframe thead th {\n",
              "        text-align: right;\n",
              "    }\n",
              "</style>\n",
              "<table border=\"1\" class=\"dataframe\">\n",
              "  <thead>\n",
              "    <tr style=\"text-align: right;\">\n",
              "      <th></th>\n",
              "      <th>symbol</th>\n",
              "      <th>date</th>\n",
              "      <th>close</th>\n",
              "      <th>high</th>\n",
              "      <th>low</th>\n",
              "      <th>open</th>\n",
              "      <th>volume</th>\n",
              "      <th>adjClose</th>\n",
              "      <th>adjHigh</th>\n",
              "      <th>adjLow</th>\n",
              "      <th>adjOpen</th>\n",
              "      <th>adjVolume</th>\n",
              "      <th>divCash</th>\n",
              "      <th>splitFactor</th>\n",
              "    </tr>\n",
              "  </thead>\n",
              "  <tbody>\n",
              "    <tr>\n",
              "      <th>1253</th>\n",
              "      <td>AAPL</td>\n",
              "      <td>2022-05-27 00:00:00+00:00</td>\n",
              "      <td>149.64</td>\n",
              "      <td>149.68</td>\n",
              "      <td>145.26</td>\n",
              "      <td>145.39</td>\n",
              "      <td>90978503</td>\n",
              "      <td>149.64</td>\n",
              "      <td>149.68</td>\n",
              "      <td>145.26</td>\n",
              "      <td>145.39</td>\n",
              "      <td>90978503</td>\n",
              "      <td>0.0</td>\n",
              "      <td>1.0</td>\n",
              "    </tr>\n",
              "    <tr>\n",
              "      <th>1254</th>\n",
              "      <td>AAPL</td>\n",
              "      <td>2022-05-31 00:00:00+00:00</td>\n",
              "      <td>148.84</td>\n",
              "      <td>150.66</td>\n",
              "      <td>146.84</td>\n",
              "      <td>149.07</td>\n",
              "      <td>103718416</td>\n",
              "      <td>148.84</td>\n",
              "      <td>150.66</td>\n",
              "      <td>146.84</td>\n",
              "      <td>149.07</td>\n",
              "      <td>103718416</td>\n",
              "      <td>0.0</td>\n",
              "      <td>1.0</td>\n",
              "    </tr>\n",
              "    <tr>\n",
              "      <th>1255</th>\n",
              "      <td>AAPL</td>\n",
              "      <td>2022-06-01 00:00:00+00:00</td>\n",
              "      <td>148.71</td>\n",
              "      <td>151.74</td>\n",
              "      <td>147.68</td>\n",
              "      <td>149.90</td>\n",
              "      <td>74286635</td>\n",
              "      <td>148.71</td>\n",
              "      <td>151.74</td>\n",
              "      <td>147.68</td>\n",
              "      <td>149.90</td>\n",
              "      <td>74286635</td>\n",
              "      <td>0.0</td>\n",
              "      <td>1.0</td>\n",
              "    </tr>\n",
              "    <tr>\n",
              "      <th>1256</th>\n",
              "      <td>AAPL</td>\n",
              "      <td>2022-06-02 00:00:00+00:00</td>\n",
              "      <td>151.21</td>\n",
              "      <td>151.27</td>\n",
              "      <td>146.86</td>\n",
              "      <td>147.83</td>\n",
              "      <td>72348055</td>\n",
              "      <td>151.21</td>\n",
              "      <td>151.27</td>\n",
              "      <td>146.86</td>\n",
              "      <td>147.83</td>\n",
              "      <td>72348055</td>\n",
              "      <td>0.0</td>\n",
              "      <td>1.0</td>\n",
              "    </tr>\n",
              "    <tr>\n",
              "      <th>1257</th>\n",
              "      <td>AAPL</td>\n",
              "      <td>2022-06-03 00:00:00+00:00</td>\n",
              "      <td>145.38</td>\n",
              "      <td>147.97</td>\n",
              "      <td>144.46</td>\n",
              "      <td>146.90</td>\n",
              "      <td>88570289</td>\n",
              "      <td>145.38</td>\n",
              "      <td>147.97</td>\n",
              "      <td>144.46</td>\n",
              "      <td>146.90</td>\n",
              "      <td>88570289</td>\n",
              "      <td>0.0</td>\n",
              "      <td>1.0</td>\n",
              "    </tr>\n",
              "  </tbody>\n",
              "</table>\n",
              "</div>\n",
              "      <button class=\"colab-df-convert\" onclick=\"convertToInteractive('df-75957d11-1f3d-40d6-be29-7ef6d3d4c388')\"\n",
              "              title=\"Convert this dataframe to an interactive table.\"\n",
              "              style=\"display:none;\">\n",
              "        \n",
              "  <svg xmlns=\"http://www.w3.org/2000/svg\" height=\"24px\"viewBox=\"0 0 24 24\"\n",
              "       width=\"24px\">\n",
              "    <path d=\"M0 0h24v24H0V0z\" fill=\"none\"/>\n",
              "    <path d=\"M18.56 5.44l.94 2.06.94-2.06 2.06-.94-2.06-.94-.94-2.06-.94 2.06-2.06.94zm-11 1L8.5 8.5l.94-2.06 2.06-.94-2.06-.94L8.5 2.5l-.94 2.06-2.06.94zm10 10l.94 2.06.94-2.06 2.06-.94-2.06-.94-.94-2.06-.94 2.06-2.06.94z\"/><path d=\"M17.41 7.96l-1.37-1.37c-.4-.4-.92-.59-1.43-.59-.52 0-1.04.2-1.43.59L10.3 9.45l-7.72 7.72c-.78.78-.78 2.05 0 2.83L4 21.41c.39.39.9.59 1.41.59.51 0 1.02-.2 1.41-.59l7.78-7.78 2.81-2.81c.8-.78.8-2.07 0-2.86zM5.41 20L4 18.59l7.72-7.72 1.47 1.35L5.41 20z\"/>\n",
              "  </svg>\n",
              "      </button>\n",
              "      \n",
              "  <style>\n",
              "    .colab-df-container {\n",
              "      display:flex;\n",
              "      flex-wrap:wrap;\n",
              "      gap: 12px;\n",
              "    }\n",
              "\n",
              "    .colab-df-convert {\n",
              "      background-color: #E8F0FE;\n",
              "      border: none;\n",
              "      border-radius: 50%;\n",
              "      cursor: pointer;\n",
              "      display: none;\n",
              "      fill: #1967D2;\n",
              "      height: 32px;\n",
              "      padding: 0 0 0 0;\n",
              "      width: 32px;\n",
              "    }\n",
              "\n",
              "    .colab-df-convert:hover {\n",
              "      background-color: #E2EBFA;\n",
              "      box-shadow: 0px 1px 2px rgba(60, 64, 67, 0.3), 0px 1px 3px 1px rgba(60, 64, 67, 0.15);\n",
              "      fill: #174EA6;\n",
              "    }\n",
              "\n",
              "    [theme=dark] .colab-df-convert {\n",
              "      background-color: #3B4455;\n",
              "      fill: #D2E3FC;\n",
              "    }\n",
              "\n",
              "    [theme=dark] .colab-df-convert:hover {\n",
              "      background-color: #434B5C;\n",
              "      box-shadow: 0px 1px 3px 1px rgba(0, 0, 0, 0.15);\n",
              "      filter: drop-shadow(0px 1px 2px rgba(0, 0, 0, 0.3));\n",
              "      fill: #FFFFFF;\n",
              "    }\n",
              "  </style>\n",
              "\n",
              "      <script>\n",
              "        const buttonEl =\n",
              "          document.querySelector('#df-75957d11-1f3d-40d6-be29-7ef6d3d4c388 button.colab-df-convert');\n",
              "        buttonEl.style.display =\n",
              "          google.colab.kernel.accessAllowed ? 'block' : 'none';\n",
              "\n",
              "        async function convertToInteractive(key) {\n",
              "          const element = document.querySelector('#df-75957d11-1f3d-40d6-be29-7ef6d3d4c388');\n",
              "          const dataTable =\n",
              "            await google.colab.kernel.invokeFunction('convertToInteractive',\n",
              "                                                     [key], {});\n",
              "          if (!dataTable) return;\n",
              "\n",
              "          const docLinkHtml = 'Like what you see? Visit the ' +\n",
              "            '<a target=\"_blank\" href=https://colab.research.google.com/notebooks/data_table.ipynb>data table notebook</a>'\n",
              "            + ' to learn more about interactive tables.';\n",
              "          element.innerHTML = '';\n",
              "          dataTable['output_type'] = 'display_data';\n",
              "          await google.colab.output.renderOutput(dataTable, element);\n",
              "          const docLink = document.createElement('div');\n",
              "          docLink.innerHTML = docLinkHtml;\n",
              "          element.appendChild(docLink);\n",
              "        }\n",
              "      </script>\n",
              "    </div>\n",
              "  </div>\n",
              "  "
            ]
          },
          "metadata": {},
          "execution_count": 6
        }
      ]
    },
    {
      "cell_type": "code",
      "source": [
        "df.info()"
      ],
      "metadata": {
        "colab": {
          "base_uri": "https://localhost:8080/"
        },
        "id": "QIKiCooT0lED",
        "outputId": "2af3552e-1374-41d8-f75b-0c932b8782ad"
      },
      "execution_count": null,
      "outputs": [
        {
          "output_type": "stream",
          "name": "stdout",
          "text": [
            "<class 'pandas.core.frame.DataFrame'>\n",
            "RangeIndex: 1258 entries, 0 to 1257\n",
            "Data columns (total 14 columns):\n",
            " #   Column       Non-Null Count  Dtype  \n",
            "---  ------       --------------  -----  \n",
            " 0   symbol       1258 non-null   object \n",
            " 1   date         1258 non-null   object \n",
            " 2   close        1258 non-null   float64\n",
            " 3   high         1258 non-null   float64\n",
            " 4   low          1258 non-null   float64\n",
            " 5   open         1258 non-null   float64\n",
            " 6   volume       1258 non-null   int64  \n",
            " 7   adjClose     1258 non-null   float64\n",
            " 8   adjHigh      1258 non-null   float64\n",
            " 9   adjLow       1258 non-null   float64\n",
            " 10  adjOpen      1258 non-null   float64\n",
            " 11  adjVolume    1258 non-null   int64  \n",
            " 12  divCash      1258 non-null   float64\n",
            " 13  splitFactor  1258 non-null   float64\n",
            "dtypes: float64(10), int64(2), object(2)\n",
            "memory usage: 137.7+ KB\n"
          ]
        }
      ]
    },
    {
      "cell_type": "code",
      "source": [
        "df1=df.reset_index()['close']"
      ],
      "metadata": {
        "id": "4mAjy5R00mRl"
      },
      "execution_count": null,
      "outputs": []
    },
    {
      "cell_type": "code",
      "source": [
        ""
      ],
      "metadata": {
        "id": "IBvz542P0n1T"
      },
      "execution_count": null,
      "outputs": []
    },
    {
      "cell_type": "code",
      "source": [
        "df1"
      ],
      "metadata": {
        "colab": {
          "base_uri": "https://localhost:8080/"
        },
        "id": "fyGvio8Q0oOV",
        "outputId": "b7929fad-109e-4124-bf83-be89f53952db"
      },
      "execution_count": null,
      "outputs": [
        {
          "output_type": "execute_result",
          "data": {
            "text/plain": [
              "0       155.37\n",
              "1       154.99\n",
              "2       148.98\n",
              "3       145.42\n",
              "4       146.59\n",
              "         ...  \n",
              "1253    149.64\n",
              "1254    148.84\n",
              "1255    148.71\n",
              "1256    151.21\n",
              "1257    145.38\n",
              "Name: close, Length: 1258, dtype: float64"
            ]
          },
          "metadata": {},
          "execution_count": 10
        }
      ]
    },
    {
      "cell_type": "code",
      "source": [
        "import matplotlib.pyplot as plt\n",
        "plt.plot(df1)"
      ],
      "metadata": {
        "colab": {
          "base_uri": "https://localhost:8080/",
          "height": 283
        },
        "id": "RLU-ky930sk1",
        "outputId": "b2e6de88-156d-42c0-9a53-a1b5a83d2577"
      },
      "execution_count": null,
      "outputs": [
        {
          "output_type": "execute_result",
          "data": {
            "text/plain": [
              "[<matplotlib.lines.Line2D at 0x7f9bda6c3910>]"
            ]
          },
          "metadata": {},
          "execution_count": 11
        },
        {
          "output_type": "display_data",
          "data": {
            "text/plain": [
              "<Figure size 432x288 with 1 Axes>"
            ],
            "image/png": "[encoded data removed]"
          },
          "metadata": {
            "needs_background": "light"
          }
        }
      ]
    },
    {
      "cell_type": "code",
      "source": [
        "#LSTM are sensitive to the scale of the data. so we apply MinMax scaler\n",
        "import numpy as np\n",
        "from sklearn.preprocessing import MinMaxScaler\n",
        "scaler=MinMaxScaler(feature_range=(0,1))\n",
        "df1=scaler.fit_transform(np.array(df1).reshape(-1,1))"
      ],
      "metadata": {
        "id": "IYL04MFG0uf7"
      },
      "execution_count": null,
      "outputs": []
    },
    {
      "cell_type": "code",
      "source": [
        "print(df1)"
      ],
      "metadata": {
        "colab": {
          "base_uri": "https://localhost:8080/"
        },
        "id": "8GciqJyo0071",
        "outputId": "f2827c01-c449-4e4c-8fb1-0eea6046ae0b"
      },
      "execution_count": null,
      "outputs": [
        {
          "output_type": "stream",
          "name": "stdout",
          "text": [
            "[[0.12155291]\n",
            " [0.12060113]\n",
            " [0.1055479 ]\n",
            " ...\n",
            " [0.10487163]\n",
            " [0.11113338]\n",
            " [0.096531  ]]\n"
          ]
        }
      ]
    },
    {
      "cell_type": "code",
      "source": [
        "##splitting dataset into train and test split\n",
        "training_size=int(len(df1)*0.65)\n",
        "test_size=len(df1)-training_size\n",
        "train_data,test_data=df1[0:training_size,:],df1[training_size:len(df1),:1]"
      ],
      "metadata": {
        "id": "vP09JHA604q8"
      },
      "execution_count": null,
      "outputs": []
    },
    {
      "cell_type": "code",
      "source": [
        "training_size,test_size"
      ],
      "metadata": {
        "colab": {
          "base_uri": "https://localhost:8080/"
        },
        "id": "A_pNpr9t06tz",
        "outputId": "ba76578a-5635-4b48-cfa0-9ddf2f3af64f"
      },
      "execution_count": null,
      "outputs": [
        {
          "output_type": "execute_result",
          "data": {
            "text/plain": [
              "(817, 441)"
            ]
          },
          "metadata": {},
          "execution_count": 15
        }
      ]
    },
    {
      "cell_type": "code",
      "source": [
        "train_data[:10]"
      ],
      "metadata": {
        "colab": {
          "base_uri": "https://localhost:8080/"
        },
        "id": "T-p6L1gN1B0l",
        "outputId": "97dd279d-abb3-49a4-cf2c-7c2db8a0c5c8"
      },
      "execution_count": null,
      "outputs": [
        {
          "output_type": "execute_result",
          "data": {
            "text/plain": [
              "array([[0.12155291],\n",
              "       [0.12060113],\n",
              "       [0.1055479 ],\n",
              "       [0.09663118],\n",
              "       [0.09956168],\n",
              "       [0.09597996],\n",
              "       [0.09380088],\n",
              "       [0.08874139],\n",
              "       [0.0989355 ],\n",
              "       [0.09560426]])"
            ]
          },
          "metadata": {},
          "execution_count": 16
        }
      ]
    },
    {
      "cell_type": "code",
      "source": [
        "import numpy\n",
        "# convert an array of values into a dataset matrix\n",
        "def create_dataset(dataset, time_step=1):\n",
        "\tdataX, dataY = [], []\n",
        "\tfor i in range(len(dataset)-time_step-1):\n",
        "\t\ta = dataset[i:(i+time_step), 0]   ###i=0, 0,1,2,3-----99   100 \n",
        "\t\tdataX.append(a)\n",
        "\t\tdataY.append(dataset[i + time_step, 0])\n",
        "\treturn numpy.array(dataX), numpy.array(dataY)"
      ],
      "metadata": {
        "id": "O3l2-E_x1OLV"
      },
      "execution_count": null,
      "outputs": []
    },
    {
      "cell_type": "code",
      "source": [
        "# reshape into X=t,t+1,t+2,t+3 and Y=t+4\n",
        "time_step = 100\n",
        "X_train, y_train = create_dataset(train_data, time_step)\n",
        "X_test, ytest = create_dataset(test_data, time_step)"
      ],
      "metadata": {
        "id": "eDjo1Fy01aus"
      },
      "execution_count": null,
      "outputs": []
    },
    {
      "cell_type": "code",
      "source": [
        "print(X_train.shape), print(y_train.shape)"
      ],
      "metadata": {
        "colab": {
          "base_uri": "https://localhost:8080/"
        },
        "id": "Mi_72JCk1cHl",
        "outputId": "36cae719-bd0e-4846-e1d7-759460b429a7"
      },
      "execution_count": null,
      "outputs": [
        {
          "output_type": "stream",
          "name": "stdout",
          "text": [
            "(716, 100)\n",
            "(716,)\n"
          ]
        },
        {
          "output_type": "execute_result",
          "data": {
            "text/plain": [
              "(None, None)"
            ]
          },
          "metadata": {},
          "execution_count": 19
        }
      ]
    },
    {
      "cell_type": "code",
      "source": [
        "print(X_test.shape), print(ytest.shape)"
      ],
      "metadata": {
        "colab": {
          "base_uri": "https://localhost:8080/"
        },
        "id": "WYKQ4t8W1dVm",
        "outputId": "86d36df5-1da2-4dc5-c530-2f949bc42e10"
      },
      "execution_count": null,
      "outputs": [
        {
          "output_type": "stream",
          "name": "stdout",
          "text": [
            "(340, 100)\n",
            "(340,)\n"
          ]
        },
        {
          "output_type": "execute_result",
          "data": {
            "text/plain": [
              "(None, None)"
            ]
          },
          "metadata": {},
          "execution_count": 20
        }
      ]
    },
    {
      "cell_type": "code",
      "source": [
        "# reshape input to be [samples, time steps, features] which is required for LSTM\n",
        "X_train =X_train.reshape(X_train.shape[0],X_train.shape[1] , 1)\n",
        "X_test = X_test.reshape(X_test.shape[0],X_test.shape[1] , 1)"
      ],
      "metadata": {
        "id": "zlHxcb4z1eid"
      },
      "execution_count": null,
      "outputs": []
    },
    {
      "cell_type": "code",
      "source": [
        "### Create the Stacked LSTM model\n",
        "from tensorflow.keras.models import Sequential\n",
        "from tensorflow.keras.layers import Dense\n",
        "from tensorflow.keras.layers import LSTM"
      ],
      "metadata": {
        "id": "GjDkz3Jx1f5f"
      },
      "execution_count": null,
      "outputs": []
    },
    {
      "cell_type": "code",
      "source": [
        "model=Sequential()\n",
        "model.add(LSTM(50,return_sequences=True,input_shape=(100,1)))\n",
        "model.add(LSTM(50,return_sequences=True))\n",
        "model.add(LSTM(50))\n",
        "model.add(Dense(1))\n",
        "model.compile(loss='mean_squared_error',optimizer='adam')"
      ],
      "metadata": {
        "id": "-FKBjmjI1hQV"
      },
      "execution_count": null,
      "outputs": []
    },
    {
      "cell_type": "code",
      "source": [
        "model.summary()"
      ],
      "metadata": {
        "colab": {
          "base_uri": "https://localhost:8080/"
        },
        "id": "h_aJ6SXO1in0",
        "outputId": "0dbb2730-866e-468e-a1a8-5d7bce8b9474"
      },
      "execution_count": null,
      "outputs": [
        {
          "output_type": "stream",
          "name": "stdout",
          "text": [
            "Model: \"sequential\"\n",
            "_________________________________________________________________\n",
            " Layer (type)                Output Shape              Param #   \n",
            "=================================================================\n",
            " lstm (LSTM)                 (None, 100, 50)           10400     \n",
            "                                                                 \n",
            " lstm_1 (LSTM)               (None, 100, 50)           20200     \n",
            "                                                                 \n",
            " lstm_2 (LSTM)               (None, 50)                20200     \n",
            "                                                                 \n",
            " dense (Dense)               (None, 1)                 51        \n",
            "                                                                 \n",
            "=================================================================\n",
            "Total params: 50,851\n",
            "Trainable params: 50,851\n",
            "Non-trainable params: 0\n",
            "_________________________________________________________________\n"
          ]
        }
      ]
    },
    {
      "cell_type": "code",
      "source": [
        "model.fit(X_train,y_train,validation_data=(X_test,ytest),epochs=100,batch_size=64,verbose=1)"
      ],
      "metadata": {
        "colab": {
          "base_uri": "https://localhost:8080/"
        },
        "id": "AnMRuCJZ1kNz",
        "outputId": "238c38fe-b69c-47e9-c76d-4e7e50b77671"
      },
      "execution_count": null,
      "outputs": [
        {
          "output_type": "stream",
          "name": "stdout",
          "text": [
            "Epoch 1/100\n",
            "12/12 [==============================] - 13s 317ms/step - loss: 0.0447 - val_loss: 0.0036\n",
            "Epoch 2/100\n",
            "12/12 [==============================] - 3s 291ms/step - loss: 0.0109 - val_loss: 0.0072\n",
            "Epoch 3/100\n",
            "12/12 [==============================] - 2s 183ms/step - loss: 0.0049 - val_loss: 8.8009e-04\n",
            "Epoch 4/100\n",
            "12/12 [==============================] - 2s 183ms/step - loss: 0.0037 - val_loss: 7.9530e-04\n",
            "Epoch 5/100\n",
            "12/12 [==============================] - 2s 179ms/step - loss: 0.0039 - val_loss: 4.4152e-04\n",
            "Epoch 6/100\n",
            "12/12 [==============================] - 2s 185ms/step - loss: 0.0036 - val_loss: 3.7162e-04\n",
            "Epoch 7/100\n",
            "12/12 [==============================] - 2s 188ms/step - loss: 0.0059 - val_loss: 0.0041\n",
            "Epoch 8/100\n",
            "12/12 [==============================] - 2s 179ms/step - loss: 0.0050 - val_loss: 0.0016\n",
            "Epoch 9/100\n",
            "12/12 [==============================] - 2s 194ms/step - loss: 0.0038 - val_loss: 3.8429e-04\n",
            "Epoch 10/100\n",
            "12/12 [==============================] - 2s 193ms/step - loss: 0.0038 - val_loss: 3.8628e-04\n",
            "Epoch 11/100\n",
            "12/12 [==============================] - 2s 191ms/step - loss: 0.0039 - val_loss: 3.9340e-04\n",
            "Epoch 12/100\n",
            "12/12 [==============================] - 2s 200ms/step - loss: 0.0036 - val_loss: 5.8994e-04\n",
            "Epoch 13/100\n",
            "12/12 [==============================] - 2s 203ms/step - loss: 0.0034 - val_loss: 4.9916e-04\n",
            "Epoch 14/100\n",
            "12/12 [==============================] - 2s 184ms/step - loss: 0.0036 - val_loss: 4.9080e-04\n",
            "Epoch 15/100\n",
            "12/12 [==============================] - 2s 182ms/step - loss: 0.0041 - val_loss: 6.7670e-04\n",
            "Epoch 16/100\n",
            "12/12 [==============================] - 2s 183ms/step - loss: 0.0043 - val_loss: 3.3691e-04\n",
            "Epoch 17/100\n",
            "12/12 [==============================] - 2s 194ms/step - loss: 0.0040 - val_loss: 3.3990e-04\n",
            "Epoch 18/100\n",
            "12/12 [==============================] - 3s 239ms/step - loss: 0.0034 - val_loss: 3.0338e-04\n",
            "Epoch 19/100\n",
            "12/12 [==============================] - 2s 180ms/step - loss: 0.0033 - val_loss: 3.0005e-04\n",
            "Epoch 20/100\n",
            "12/12 [==============================] - 2s 193ms/step - loss: 0.0033 - val_loss: 5.0133e-04\n",
            "Epoch 21/100\n",
            "12/12 [==============================] - 2s 182ms/step - loss: 0.0037 - val_loss: 6.1513e-04\n",
            "Epoch 22/100\n",
            "12/12 [==============================] - 2s 191ms/step - loss: 0.0033 - val_loss: 3.4653e-04\n",
            "Epoch 23/100\n",
            "12/12 [==============================] - 2s 185ms/step - loss: 0.0034 - val_loss: 2.9644e-04\n",
            "Epoch 24/100\n",
            "12/12 [==============================] - 2s 180ms/step - loss: 0.0039 - val_loss: 2.8582e-04\n",
            "Epoch 25/100\n",
            "12/12 [==============================] - 2s 179ms/step - loss: 0.0035 - val_loss: 2.8312e-04\n",
            "Epoch 26/100\n",
            "12/12 [==============================] - 2s 187ms/step - loss: 0.0033 - val_loss: 3.0858e-04\n",
            "Epoch 27/100\n",
            "12/12 [==============================] - 2s 182ms/step - loss: 0.0032 - val_loss: 3.1714e-04\n",
            "Epoch 28/100\n",
            "12/12 [==============================] - 2s 181ms/step - loss: 0.0032 - val_loss: 2.9863e-04\n",
            "Epoch 29/100\n",
            "12/12 [==============================] - 2s 195ms/step - loss: 0.0035 - val_loss: 5.7479e-04\n",
            "Epoch 30/100\n",
            "12/12 [==============================] - 2s 202ms/step - loss: 0.0031 - val_loss: 2.9546e-04\n",
            "Epoch 31/100\n",
            "12/12 [==============================] - 2s 190ms/step - loss: 0.0032 - val_loss: 3.8608e-04\n",
            "Epoch 32/100\n",
            "12/12 [==============================] - 2s 193ms/step - loss: 0.0033 - val_loss: 3.1345e-04\n",
            "Epoch 33/100\n",
            "12/12 [==============================] - 2s 200ms/step - loss: 0.0031 - val_loss: 3.0378e-04\n",
            "Epoch 34/100\n",
            "12/12 [==============================] - 2s 197ms/step - loss: 0.0031 - val_loss: 2.4513e-04\n",
            "Epoch 35/100\n",
            "12/12 [==============================] - 2s 205ms/step - loss: 0.0036 - val_loss: 2.6192e-04\n",
            "Epoch 36/100\n",
            "12/12 [==============================] - 2s 200ms/step - loss: 0.0031 - val_loss: 3.8577e-04\n",
            "Epoch 37/100\n",
            "12/12 [==============================] - 2s 193ms/step - loss: 0.0030 - val_loss: 2.5187e-04\n",
            "Epoch 38/100\n",
            "12/12 [==============================] - 2s 193ms/step - loss: 0.0035 - val_loss: 2.4575e-04\n",
            "Epoch 39/100\n",
            "12/12 [==============================] - 2s 201ms/step - loss: 0.0031 - val_loss: 2.6396e-04\n",
            "Epoch 40/100\n",
            "12/12 [==============================] - 2s 188ms/step - loss: 0.0029 - val_loss: 3.8024e-04\n",
            "Epoch 41/100\n",
            "12/12 [==============================] - 2s 205ms/step - loss: 0.0029 - val_loss: 2.3544e-04\n",
            "Epoch 42/100\n",
            "12/12 [==============================] - 3s 209ms/step - loss: 0.0029 - val_loss: 2.4005e-04\n",
            "Epoch 43/100\n",
            "12/12 [==============================] - 2s 186ms/step - loss: 0.0029 - val_loss: 2.5354e-04\n",
            "Epoch 44/100\n",
            "12/12 [==============================] - 2s 193ms/step - loss: 0.0030 - val_loss: 2.4370e-04\n",
            "Epoch 45/100\n",
            "12/12 [==============================] - 2s 182ms/step - loss: 0.0029 - val_loss: 2.0986e-04\n",
            "Epoch 46/100\n",
            "12/12 [==============================] - 2s 211ms/step - loss: 0.0049 - val_loss: 9.2513e-04\n",
            "Epoch 47/100\n",
            "12/12 [==============================] - 2s 201ms/step - loss: 0.0030 - val_loss: 3.0109e-04\n",
            "Epoch 48/100\n",
            "12/12 [==============================] - 2s 181ms/step - loss: 0.0029 - val_loss: 2.3601e-04\n",
            "Epoch 49/100\n",
            "12/12 [==============================] - 2s 195ms/step - loss: 0.0028 - val_loss: 2.2304e-04\n",
            "Epoch 50/100\n",
            "12/12 [==============================] - 2s 207ms/step - loss: 0.0027 - val_loss: 2.7521e-04\n",
            "Epoch 51/100\n",
            "12/12 [==============================] - 2s 205ms/step - loss: 0.0029 - val_loss: 2.3308e-04\n",
            "Epoch 52/100\n",
            "12/12 [==============================] - 2s 204ms/step - loss: 0.0039 - val_loss: 8.8772e-04\n",
            "Epoch 53/100\n",
            "12/12 [==============================] - 2s 198ms/step - loss: 0.0031 - val_loss: 3.1329e-04\n",
            "Epoch 54/100\n",
            "12/12 [==============================] - 2s 184ms/step - loss: 0.0028 - val_loss: 2.3562e-04\n",
            "Epoch 55/100\n",
            "12/12 [==============================] - 2s 182ms/step - loss: 0.0027 - val_loss: 2.1958e-04\n",
            "Epoch 56/100\n",
            "12/12 [==============================] - 2s 185ms/step - loss: 0.0029 - val_loss: 2.2444e-04\n",
            "Epoch 57/100\n",
            "12/12 [==============================] - 2s 181ms/step - loss: 0.0027 - val_loss: 3.5586e-04\n",
            "Epoch 58/100\n",
            "12/12 [==============================] - 2s 181ms/step - loss: 0.0049 - val_loss: 7.7960e-04\n",
            "Epoch 59/100\n",
            "12/12 [==============================] - 2s 184ms/step - loss: 0.0030 - val_loss: 3.4520e-04\n",
            "Epoch 60/100\n",
            "12/12 [==============================] - 2s 198ms/step - loss: 0.0032 - val_loss: 2.1830e-04\n",
            "Epoch 61/100\n",
            "12/12 [==============================] - 2s 206ms/step - loss: 0.0028 - val_loss: 2.1332e-04\n",
            "Epoch 62/100\n",
            "12/12 [==============================] - 2s 193ms/step - loss: 0.0026 - val_loss: 2.6582e-04\n",
            "Epoch 63/100\n",
            "12/12 [==============================] - 2s 187ms/step - loss: 0.0027 - val_loss: 1.9400e-04\n",
            "Epoch 64/100\n",
            "12/12 [==============================] - 3s 248ms/step - loss: 0.0026 - val_loss: 3.3605e-04\n",
            "Epoch 65/100\n",
            "12/12 [==============================] - 2s 185ms/step - loss: 0.0027 - val_loss: 1.9851e-04\n",
            "Epoch 66/100\n",
            "12/12 [==============================] - 2s 183ms/step - loss: 0.0028 - val_loss: 4.4548e-04\n",
            "Epoch 67/100\n",
            "12/12 [==============================] - 2s 180ms/step - loss: 0.0032 - val_loss: 2.7758e-04\n",
            "Epoch 68/100\n",
            "12/12 [==============================] - 2s 196ms/step - loss: 0.0032 - val_loss: 1.9402e-04\n",
            "Epoch 69/100\n",
            "12/12 [==============================] - 2s 180ms/step - loss: 0.0027 - val_loss: 1.7814e-04\n",
            "Epoch 70/100\n",
            "12/12 [==============================] - 2s 192ms/step - loss: 0.0026 - val_loss: 1.7657e-04\n",
            "Epoch 71/100\n",
            "12/12 [==============================] - 2s 195ms/step - loss: 0.0026 - val_loss: 1.8807e-04\n",
            "Epoch 72/100\n",
            "12/12 [==============================] - 2s 181ms/step - loss: 0.0026 - val_loss: 1.7972e-04\n",
            "Epoch 73/100\n",
            "12/12 [==============================] - 2s 187ms/step - loss: 0.0026 - val_loss: 2.2521e-04\n",
            "Epoch 74/100\n",
            "12/12 [==============================] - 2s 181ms/step - loss: 0.0024 - val_loss: 1.7509e-04\n",
            "Epoch 75/100\n",
            "12/12 [==============================] - 2s 186ms/step - loss: 0.0024 - val_loss: 2.3338e-04\n",
            "Epoch 76/100\n",
            "12/12 [==============================] - 2s 205ms/step - loss: 0.0024 - val_loss: 2.4845e-04\n",
            "Epoch 77/100\n",
            "12/12 [==============================] - 2s 186ms/step - loss: 0.0024 - val_loss: 2.2976e-04\n",
            "Epoch 78/100\n",
            "12/12 [==============================] - 2s 195ms/step - loss: 0.0023 - val_loss: 1.7941e-04\n",
            "Epoch 79/100\n",
            "12/12 [==============================] - 2s 198ms/step - loss: 0.0022 - val_loss: 1.7379e-04\n",
            "Epoch 80/100\n",
            "12/12 [==============================] - 2s 200ms/step - loss: 0.0026 - val_loss: 3.3241e-04\n",
            "Epoch 81/100\n",
            "12/12 [==============================] - 2s 195ms/step - loss: 0.0030 - val_loss: 9.5215e-04\n",
            "Epoch 82/100\n",
            "12/12 [==============================] - 2s 205ms/step - loss: 0.0029 - val_loss: 4.1873e-04\n",
            "Epoch 83/100\n",
            "12/12 [==============================] - 2s 190ms/step - loss: 0.0030 - val_loss: 1.8070e-04\n",
            "Epoch 84/100\n",
            "12/12 [==============================] - 2s 186ms/step - loss: 0.0029 - val_loss: 4.0408e-04\n",
            "Epoch 85/100\n",
            "12/12 [==============================] - 2s 196ms/step - loss: 0.0027 - val_loss: 2.3368e-04\n",
            "Epoch 86/100\n",
            "12/12 [==============================] - 2s 193ms/step - loss: 0.0026 - val_loss: 2.0320e-04\n",
            "Epoch 87/100\n",
            "12/12 [==============================] - 2s 187ms/step - loss: 0.0026 - val_loss: 2.1465e-04\n",
            "Epoch 88/100\n",
            "12/12 [==============================] - 2s 190ms/step - loss: 0.0025 - val_loss: 2.0953e-04\n",
            "Epoch 89/100\n",
            "12/12 [==============================] - 2s 185ms/step - loss: 0.0042 - val_loss: 8.4188e-04\n",
            "Epoch 90/100\n",
            "12/12 [==============================] - 2s 188ms/step - loss: 0.0027 - val_loss: 2.5978e-04\n",
            "Epoch 91/100\n",
            "12/12 [==============================] - 2s 183ms/step - loss: 0.0024 - val_loss: 1.7159e-04\n",
            "Epoch 92/100\n",
            "12/12 [==============================] - 2s 185ms/step - loss: 0.0035 - val_loss: 4.1217e-04\n",
            "Epoch 93/100\n",
            "12/12 [==============================] - 2s 185ms/step - loss: 0.0025 - val_loss: 1.8733e-04\n",
            "Epoch 94/100\n",
            "12/12 [==============================] - 2s 201ms/step - loss: 0.0021 - val_loss: 1.6521e-04\n",
            "Epoch 95/100\n",
            "12/12 [==============================] - 2s 192ms/step - loss: 0.0023 - val_loss: 1.6314e-04\n",
            "Epoch 96/100\n",
            "12/12 [==============================] - 2s 181ms/step - loss: 0.0027 - val_loss: 1.7480e-04\n",
            "Epoch 97/100\n",
            "12/12 [==============================] - 2s 197ms/step - loss: 0.0026 - val_loss: 2.9619e-04\n",
            "Epoch 98/100\n",
            "12/12 [==============================] - 3s 273ms/step - loss: 0.0023 - val_loss: 2.0606e-04\n",
            "Epoch 99/100\n",
            "12/12 [==============================] - 2s 191ms/step - loss: 0.0022 - val_loss: 2.4018e-04\n",
            "Epoch 100/100\n",
            "12/12 [==============================] - 2s 204ms/step - loss: 0.0023 - val_loss: 2.1052e-04\n"
          ]
        },
        {
          "output_type": "execute_result",
          "data": {
            "text/plain": [
              "<keras.callbacks.History at 0x7f9b53bfead0>"
            ]
          },
          "metadata": {},
          "execution_count": 25
        }
      ]
    },
    {
      "cell_type": "code",
      "source": [
        "### Lets Do the prediction and check performance metrics\n",
        "train_predict=model.predict(X_train)\n",
        "test_predict=model.predict(X_test)"
      ],
      "metadata": {
        "id": "kSpD8Epg1o5_"
      },
      "execution_count": null,
      "outputs": []
    },
    {
      "cell_type": "code",
      "source": [
        "##Transformback to original form\n",
        "train_predict=scaler.inverse_transform(train_predict)\n",
        "test_predict=scaler.inverse_transform(test_predict)"
      ],
      "metadata": {
        "id": "_Zgg59rR3P4l"
      },
      "execution_count": null,
      "outputs": []
    },
    {
      "cell_type": "code",
      "source": [
        "### Calculate RMSE performance metrics\n",
        "import math\n",
        "from sklearn.metrics import mean_squared_error\n",
        "math.sqrt(mean_squared_error(y_train,train_predict))"
      ],
      "metadata": {
        "colab": {
          "base_uri": "https://localhost:8080/"
        },
        "id": "JuHzTfXz3-9-",
        "outputId": "9a0d5302-8122-46f6-c85c-b9994c3a2bed"
      },
      "execution_count": null,
      "outputs": [
        {
          "output_type": "execute_result",
          "data": {
            "text/plain": [
              "239.89951928442406"
            ]
          },
          "metadata": {},
          "execution_count": 31
        }
      ]
    },
    {
      "cell_type": "code",
      "source": [
        "### Test Data RMSE\n",
        "math.sqrt(mean_squared_error(ytest,test_predict))"
      ],
      "metadata": {
        "colab": {
          "base_uri": "https://localhost:8080/"
        },
        "id": "1yq42CoS4Ai4",
        "outputId": "aea98ebc-a7fa-4622-c0f7-fd495b97ed9c"
      },
      "execution_count": null,
      "outputs": [
        {
          "output_type": "execute_result",
          "data": {
            "text/plain": [
              "151.97280372039114"
            ]
          },
          "metadata": {},
          "execution_count": 32
        }
      ]
    },
    {
      "cell_type": "code",
      "source": [
        "### Plotting \n",
        "# shift train predictions for plotting\n",
        "look_back=100\n",
        "trainPredictPlot = numpy.empty_like(df1)\n",
        "trainPredictPlot[:, :] = np.nan\n",
        "trainPredictPlot[look_back:len(train_predict)+look_back, :] = train_predict\n",
        "# shift test predictions for plotting\n",
        "testPredictPlot = numpy.empty_like(df1)\n",
        "testPredictPlot[:, :] = numpy.nan\n",
        "testPredictPlot[len(train_predict)+(look_back*2)+1:len(df1)-1, :] = test_predict\n",
        "# plot baseline and predictions\n",
        "plt.plot(scaler.inverse_transform(df1))\n",
        "plt.plot(trainPredictPlot)\n",
        "plt.plot(testPredictPlot)\n",
        "plt.show()"
      ],
      "metadata": {
        "colab": {
          "base_uri": "https://localhost:8080/",
          "height": 265
        },
        "id": "4mYMpS-W4CEM",
        "outputId": "4e952b4b-63f8-4f96-a1a0-64d764870eb5"
      },
      "execution_count": null,
      "outputs": [
        {
          "output_type": "display_data",
          "data": {
            "text/plain": [
              "<Figure size 432x288 with 1 Axes>"
            ],
            "image/png": "[encoded data removed]"
          },
          "metadata": {
            "needs_background": "light"
          }
        }
      ]
    },
    {
      "cell_type": "code",
      "source": [
        "len(test_data)"
      ],
      "metadata": {
        "colab": {
          "base_uri": "https://localhost:8080/"
        },
        "id": "6gLvrnCO4Dlb",
        "outputId": "06207677-39dc-4be3-87c7-ef9d0370abbf"
      },
      "execution_count": null,
      "outputs": [
        {
          "output_type": "execute_result",
          "data": {
            "text/plain": [
              "441"
            ]
          },
          "metadata": {},
          "execution_count": 34
        }
      ]
    },
    {
      "cell_type": "code",
      "source": [
        "x_input=test_data[341:].reshape(1,-1)\n",
        "x_input.shape"
      ],
      "metadata": {
        "colab": {
          "base_uri": "https://localhost:8080/"
        },
        "id": "u1OtpOJ24Hhk",
        "outputId": "764419b4-12d2-4ca4-f834-16b8997890bc"
      },
      "execution_count": null,
      "outputs": [
        {
          "output_type": "execute_result",
          "data": {
            "text/plain": [
              "(1, 100)"
            ]
          },
          "metadata": {},
          "execution_count": 35
        }
      ]
    },
    {
      "cell_type": "code",
      "source": [
        "temp_input=list(x_input)\n",
        "temp_input=temp_input[0].tolist()"
      ],
      "metadata": {
        "id": "TCNjlieB4KqK"
      },
      "execution_count": null,
      "outputs": []
    },
    {
      "cell_type": "code",
      "source": [
        "# demonstrate prediction for next 10 days\n",
        "from numpy import array\n",
        "\n",
        "lst_output=[]\n",
        "n_steps=100\n",
        "i=0\n",
        "while(i<30):\n",
        "    \n",
        "    if(len(temp_input)>100):\n",
        "        #print(temp_input)\n",
        "        x_input=np.array(temp_input[1:])\n",
        "        print(\"{} day input {}\".format(i,x_input))\n",
        "        x_input=x_input.reshape(1,-1)\n",
        "        x_input = x_input.reshape((1, n_steps, 1))\n",
        "        #print(x_input)\n",
        "        yhat = model.predict(x_input, verbose=0)\n",
        "        print(\"{} day output {}\".format(i,yhat))\n",
        "        temp_input.extend(yhat[0].tolist())\n",
        "        temp_input=temp_input[1:]\n",
        "        #print(temp_input)\n",
        "        lst_output.extend(yhat.tolist())\n",
        "        i=i+1\n",
        "    else:\n",
        "        x_input = x_input.reshape((1, n_steps,1))\n",
        "        yhat = model.predict(x_input, verbose=0)\n",
        "        print(yhat[0])\n",
        "        temp_input.extend(yhat[0].tolist())\n",
        "        print(len(temp_input))\n",
        "        lst_output.extend(yhat.tolist())\n",
        "        i=i+1\n",
        "    \n",
        "\n",
        "print(lst_output)"
      ],
      "metadata": {
        "colab": {
          "base_uri": "https://localhost:8080/"
        },
        "id": "p0FCcW6D4MS1",
        "outputId": "66263e07-777b-4d67-fab4-50f35f740c8d"
      },
      "execution_count": null,
      "outputs": [
        {
          "output_type": "stream",
          "name": "stdout",
          "text": [
            "[0.10312772]\n",
            "101\n",
            "1 day input [0.17204759 0.1636819  0.16588604 0.15769568 0.14875391 0.14444584\n",
            " 0.13918597 0.13720726 0.13259862 0.1323732  0.13119599 0.15902317\n",
            " 0.17016907 0.16974327 0.17282405 0.16546024 0.16418284 0.16235441\n",
            " 0.1702943  0.17392611 0.16350657 0.15479023 0.15539136 0.16518472\n",
            " 0.16458359 0.15539136 0.15143394 0.14396994 0.13332498 0.14001252\n",
            " 0.14529743 0.1459737  0.14116468 0.14958046 0.14875391 0.14108954\n",
            " 0.13139637 0.12673763 0.14053851 0.12944271 0.11994991 0.1096556\n",
            " 0.1208516  0.13212273 0.13470257 0.14311835 0.14662492 0.15524108\n",
            " 0.1587226  0.16839073 0.17001879 0.17222292 0.1806387  0.17765811\n",
            " 0.16974327 0.16899186 0.17933626 0.17087038 0.16278021 0.16355667\n",
            " 0.15842204 0.14755166 0.15233563 0.1591985  0.1463995  0.14584847\n",
            " 0.15168441 0.15125861 0.14922981 0.13763306 0.14036318 0.12513463\n",
            " 0.12455855 0.14226675 0.12726362 0.12804008 0.13184721 0.14822793\n",
            " 0.12505949 0.12633688 0.11326237 0.11939887 0.09933626 0.08946775\n",
            " 0.10086412 0.09693175 0.10619912 0.08510958 0.07641828 0.07701941\n",
            " 0.09084534 0.08395742 0.08435817 0.09252348 0.107201   0.10519724\n",
            " 0.10487163 0.11113338 0.096531   0.10312772]\n",
            "1 day output [[0.10597362]]\n",
            "2 day input [0.1636819  0.16588604 0.15769568 0.14875391 0.14444584 0.13918597\n",
            " 0.13720726 0.13259862 0.1323732  0.13119599 0.15902317 0.17016907\n",
            " 0.16974327 0.17282405 0.16546024 0.16418284 0.16235441 0.1702943\n",
            " 0.17392611 0.16350657 0.15479023 0.15539136 0.16518472 0.16458359\n",
            " 0.15539136 0.15143394 0.14396994 0.13332498 0.14001252 0.14529743\n",
            " 0.1459737  0.14116468 0.14958046 0.14875391 0.14108954 0.13139637\n",
            " 0.12673763 0.14053851 0.12944271 0.11994991 0.1096556  0.1208516\n",
            " 0.13212273 0.13470257 0.14311835 0.14662492 0.15524108 0.1587226\n",
            " 0.16839073 0.17001879 0.17222292 0.1806387  0.17765811 0.16974327\n",
            " 0.16899186 0.17933626 0.17087038 0.16278021 0.16355667 0.15842204\n",
            " 0.14755166 0.15233563 0.1591985  0.1463995  0.14584847 0.15168441\n",
            " 0.15125861 0.14922981 0.13763306 0.14036318 0.12513463 0.12455855\n",
            " 0.14226675 0.12726362 0.12804008 0.13184721 0.14822793 0.12505949\n",
            " 0.12633688 0.11326237 0.11939887 0.09933626 0.08946775 0.10086412\n",
            " 0.09693175 0.10619912 0.08510958 0.07641828 0.07701941 0.09084534\n",
            " 0.08395742 0.08435817 0.09252348 0.107201   0.10519724 0.10487163\n",
            " 0.11113338 0.096531   0.10312772 0.10597362]\n",
            "2 day output [[0.10850285]]\n",
            "3 day input [0.16588604 0.15769568 0.14875391 0.14444584 0.13918597 0.13720726\n",
            " 0.13259862 0.1323732  0.13119599 0.15902317 0.17016907 0.16974327\n",
            " 0.17282405 0.16546024 0.16418284 0.16235441 0.1702943  0.17392611\n",
            " 0.16350657 0.15479023 0.15539136 0.16518472 0.16458359 0.15539136\n",
            " 0.15143394 0.14396994 0.13332498 0.14001252 0.14529743 0.1459737\n",
            " 0.14116468 0.14958046 0.14875391 0.14108954 0.13139637 0.12673763\n",
            " 0.14053851 0.12944271 0.11994991 0.1096556  0.1208516  0.13212273\n",
            " 0.13470257 0.14311835 0.14662492 0.15524108 0.1587226  0.16839073\n",
            " 0.17001879 0.17222292 0.1806387  0.17765811 0.16974327 0.16899186\n",
            " 0.17933626 0.17087038 0.16278021 0.16355667 0.15842204 0.14755166\n",
            " 0.15233563 0.1591985  0.1463995  0.14584847 0.15168441 0.15125861\n",
            " 0.14922981 0.13763306 0.14036318 0.12513463 0.12455855 0.14226675\n",
            " 0.12726362 0.12804008 0.13184721 0.14822793 0.12505949 0.12633688\n",
            " 0.11326237 0.11939887 0.09933626 0.08946775 0.10086412 0.09693175\n",
            " 0.10619912 0.08510958 0.07641828 0.07701941 0.09084534 0.08395742\n",
            " 0.08435817 0.09252348 0.107201   0.10519724 0.10487163 0.11113338\n",
            " 0.096531   0.10312772 0.10597362 0.10850285]\n",
            "3 day output [[0.1107446]]\n",
            "4 day input [0.15769568 0.14875391 0.14444584 0.13918597 0.13720726 0.13259862\n",
            " 0.1323732  0.13119599 0.15902317 0.17016907 0.16974327 0.17282405\n",
            " 0.16546024 0.16418284 0.16235441 0.1702943  0.17392611 0.16350657\n",
            " 0.15479023 0.15539136 0.16518472 0.16458359 0.15539136 0.15143394\n",
            " 0.14396994 0.13332498 0.14001252 0.14529743 0.1459737  0.14116468\n",
            " 0.14958046 0.14875391 0.14108954 0.13139637 0.12673763 0.14053851\n",
            " 0.12944271 0.11994991 0.1096556  0.1208516  0.13212273 0.13470257\n",
            " 0.14311835 0.14662492 0.15524108 0.1587226  0.16839073 0.17001879\n",
            " 0.17222292 0.1806387  0.17765811 0.16974327 0.16899186 0.17933626\n",
            " 0.17087038 0.16278021 0.16355667 0.15842204 0.14755166 0.15233563\n",
            " 0.1591985  0.1463995  0.14584847 0.15168441 0.15125861 0.14922981\n",
            " 0.13763306 0.14036318 0.12513463 0.12455855 0.14226675 0.12726362\n",
            " 0.12804008 0.13184721 0.14822793 0.12505949 0.12633688 0.11326237\n",
            " 0.11939887 0.09933626 0.08946775 0.10086412 0.09693175 0.10619912\n",
            " 0.08510958 0.07641828 0.07701941 0.09084534 0.08395742 0.08435817\n",
            " 0.09252348 0.107201   0.10519724 0.10487163 0.11113338 0.096531\n",
            " 0.10312772 0.10597362 0.10850285 0.1107446 ]\n",
            "4 day output [[0.11275825]]\n",
            "5 day input [0.14875391 0.14444584 0.13918597 0.13720726 0.13259862 0.1323732\n",
            " 0.13119599 0.15902317 0.17016907 0.16974327 0.17282405 0.16546024\n",
            " 0.16418284 0.16235441 0.1702943  0.17392611 0.16350657 0.15479023\n",
            " 0.15539136 0.16518472 0.16458359 0.15539136 0.15143394 0.14396994\n",
            " 0.13332498 0.14001252 0.14529743 0.1459737  0.14116468 0.14958046\n",
            " 0.14875391 0.14108954 0.13139637 0.12673763 0.14053851 0.12944271\n",
            " 0.11994991 0.1096556  0.1208516  0.13212273 0.13470257 0.14311835\n",
            " 0.14662492 0.15524108 0.1587226  0.16839073 0.17001879 0.17222292\n",
            " 0.1806387  0.17765811 0.16974327 0.16899186 0.17933626 0.17087038\n",
            " 0.16278021 0.16355667 0.15842204 0.14755166 0.15233563 0.1591985\n",
            " 0.1463995  0.14584847 0.15168441 0.15125861 0.14922981 0.13763306\n",
            " 0.14036318 0.12513463 0.12455855 0.14226675 0.12726362 0.12804008\n",
            " 0.13184721 0.14822793 0.12505949 0.12633688 0.11326237 0.11939887\n",
            " 0.09933626 0.08946775 0.10086412 0.09693175 0.10619912 0.08510958\n",
            " 0.07641828 0.07701941 0.09084534 0.08395742 0.08435817 0.09252348\n",
            " 0.107201   0.10519724 0.10487163 0.11113338 0.096531   0.10312772\n",
            " 0.10597362 0.10850285 0.1107446  0.11275825]\n",
            "5 day output [[0.11460344]]\n",
            "6 day input [0.14444584 0.13918597 0.13720726 0.13259862 0.1323732  0.13119599\n",
            " 0.15902317 0.17016907 0.16974327 0.17282405 0.16546024 0.16418284\n",
            " 0.16235441 0.1702943  0.17392611 0.16350657 0.15479023 0.15539136\n",
            " 0.16518472 0.16458359 0.15539136 0.15143394 0.14396994 0.13332498\n",
            " 0.14001252 0.14529743 0.1459737  0.14116468 0.14958046 0.14875391\n",
            " 0.14108954 0.13139637 0.12673763 0.14053851 0.12944271 0.11994991\n",
            " 0.1096556  0.1208516  0.13212273 0.13470257 0.14311835 0.14662492\n",
            " 0.15524108 0.1587226  0.16839073 0.17001879 0.17222292 0.1806387\n",
            " 0.17765811 0.16974327 0.16899186 0.17933626 0.17087038 0.16278021\n",
            " 0.16355667 0.15842204 0.14755166 0.15233563 0.1591985  0.1463995\n",
            " 0.14584847 0.15168441 0.15125861 0.14922981 0.13763306 0.14036318\n",
            " 0.12513463 0.12455855 0.14226675 0.12726362 0.12804008 0.13184721\n",
            " 0.14822793 0.12505949 0.12633688 0.11326237 0.11939887 0.09933626\n",
            " 0.08946775 0.10086412 0.09693175 0.10619912 0.08510958 0.07641828\n",
            " 0.07701941 0.09084534 0.08395742 0.08435817 0.09252348 0.107201\n",
            " 0.10519724 0.10487163 0.11113338 0.096531   0.10312772 0.10597362\n",
            " 0.10850285 0.1107446  0.11275825 0.11460344]\n",
            "6 day output [[0.11632773]]\n",
            "7 day input [0.13918597 0.13720726 0.13259862 0.1323732  0.13119599 0.15902317\n",
            " 0.17016907 0.16974327 0.17282405 0.16546024 0.16418284 0.16235441\n",
            " 0.1702943  0.17392611 0.16350657 0.15479023 0.15539136 0.16518472\n",
            " 0.16458359 0.15539136 0.15143394 0.14396994 0.13332498 0.14001252\n",
            " 0.14529743 0.1459737  0.14116468 0.14958046 0.14875391 0.14108954\n",
            " 0.13139637 0.12673763 0.14053851 0.12944271 0.11994991 0.1096556\n",
            " 0.1208516  0.13212273 0.13470257 0.14311835 0.14662492 0.15524108\n",
            " 0.1587226  0.16839073 0.17001879 0.17222292 0.1806387  0.17765811\n",
            " 0.16974327 0.16899186 0.17933626 0.17087038 0.16278021 0.16355667\n",
            " 0.15842204 0.14755166 0.15233563 0.1591985  0.1463995  0.14584847\n",
            " 0.15168441 0.15125861 0.14922981 0.13763306 0.14036318 0.12513463\n",
            " 0.12455855 0.14226675 0.12726362 0.12804008 0.13184721 0.14822793\n",
            " 0.12505949 0.12633688 0.11326237 0.11939887 0.09933626 0.08946775\n",
            " 0.10086412 0.09693175 0.10619912 0.08510958 0.07641828 0.07701941\n",
            " 0.09084534 0.08395742 0.08435817 0.09252348 0.107201   0.10519724\n",
            " 0.10487163 0.11113338 0.096531   0.10312772 0.10597362 0.10850285\n",
            " 0.1107446  0.11275825 0.11460344 0.11632773]\n",
            "7 day output [[0.11796431]]\n",
            "8 day input [0.13720726 0.13259862 0.1323732  0.13119599 0.15902317 0.17016907\n",
            " 0.16974327 0.17282405 0.16546024 0.16418284 0.16235441 0.1702943\n",
            " 0.17392611 0.16350657 0.15479023 0.15539136 0.16518472 0.16458359\n",
            " 0.15539136 0.15143394 0.14396994 0.13332498 0.14001252 0.14529743\n",
            " 0.1459737  0.14116468 0.14958046 0.14875391 0.14108954 0.13139637\n",
            " 0.12673763 0.14053851 0.12944271 0.11994991 0.1096556  0.1208516\n",
            " 0.13212273 0.13470257 0.14311835 0.14662492 0.15524108 0.1587226\n",
            " 0.16839073 0.17001879 0.17222292 0.1806387  0.17765811 0.16974327\n",
            " 0.16899186 0.17933626 0.17087038 0.16278021 0.16355667 0.15842204\n",
            " 0.14755166 0.15233563 0.1591985  0.1463995  0.14584847 0.15168441\n",
            " 0.15125861 0.14922981 0.13763306 0.14036318 0.12513463 0.12455855\n",
            " 0.14226675 0.12726362 0.12804008 0.13184721 0.14822793 0.12505949\n",
            " 0.12633688 0.11326237 0.11939887 0.09933626 0.08946775 0.10086412\n",
            " 0.09693175 0.10619912 0.08510958 0.07641828 0.07701941 0.09084534\n",
            " 0.08395742 0.08435817 0.09252348 0.107201   0.10519724 0.10487163\n",
            " 0.11113338 0.096531   0.10312772 0.10597362 0.10850285 0.1107446\n",
            " 0.11275825 0.11460344 0.11632773 0.11796431]\n",
            "8 day output [[0.11953393]]\n",
            "9 day input [0.13259862 0.1323732  0.13119599 0.15902317 0.17016907 0.16974327\n",
            " 0.17282405 0.16546024 0.16418284 0.16235441 0.1702943  0.17392611\n",
            " 0.16350657 0.15479023 0.15539136 0.16518472 0.16458359 0.15539136\n",
            " 0.15143394 0.14396994 0.13332498 0.14001252 0.14529743 0.1459737\n",
            " 0.14116468 0.14958046 0.14875391 0.14108954 0.13139637 0.12673763\n",
            " 0.14053851 0.12944271 0.11994991 0.1096556  0.1208516  0.13212273\n",
            " 0.13470257 0.14311835 0.14662492 0.15524108 0.1587226  0.16839073\n",
            " 0.17001879 0.17222292 0.1806387  0.17765811 0.16974327 0.16899186\n",
            " 0.17933626 0.17087038 0.16278021 0.16355667 0.15842204 0.14755166\n",
            " 0.15233563 0.1591985  0.1463995  0.14584847 0.15168441 0.15125861\n",
            " 0.14922981 0.13763306 0.14036318 0.12513463 0.12455855 0.14226675\n",
            " 0.12726362 0.12804008 0.13184721 0.14822793 0.12505949 0.12633688\n",
            " 0.11326237 0.11939887 0.09933626 0.08946775 0.10086412 0.09693175\n",
            " 0.10619912 0.08510958 0.07641828 0.07701941 0.09084534 0.08395742\n",
            " 0.08435817 0.09252348 0.107201   0.10519724 0.10487163 0.11113338\n",
            " 0.096531   0.10312772 0.10597362 0.10850285 0.1107446  0.11275825\n",
            " 0.11460344 0.11632773 0.11796431 0.11953393]\n",
            "9 day output [[0.12104855]]\n",
            "10 day input [0.1323732  0.13119599 0.15902317 0.17016907 0.16974327 0.17282405\n",
            " 0.16546024 0.16418284 0.16235441 0.1702943  0.17392611 0.16350657\n",
            " 0.15479023 0.15539136 0.16518472 0.16458359 0.15539136 0.15143394\n",
            " 0.14396994 0.13332498 0.14001252 0.14529743 0.1459737  0.14116468\n",
            " 0.14958046 0.14875391 0.14108954 0.13139637 0.12673763 0.14053851\n",
            " 0.12944271 0.11994991 0.1096556  0.1208516  0.13212273 0.13470257\n",
            " 0.14311835 0.14662492 0.15524108 0.1587226  0.16839073 0.17001879\n",
            " 0.17222292 0.1806387  0.17765811 0.16974327 0.16899186 0.17933626\n",
            " 0.17087038 0.16278021 0.16355667 0.15842204 0.14755166 0.15233563\n",
            " 0.1591985  0.1463995  0.14584847 0.15168441 0.15125861 0.14922981\n",
            " 0.13763306 0.14036318 0.12513463 0.12455855 0.14226675 0.12726362\n",
            " 0.12804008 0.13184721 0.14822793 0.12505949 0.12633688 0.11326237\n",
            " 0.11939887 0.09933626 0.08946775 0.10086412 0.09693175 0.10619912\n",
            " 0.08510958 0.07641828 0.07701941 0.09084534 0.08395742 0.08435817\n",
            " 0.09252348 0.107201   0.10519724 0.10487163 0.11113338 0.096531\n",
            " 0.10312772 0.10597362 0.10850285 0.1107446  0.11275825 0.11460344\n",
            " 0.11632773 0.11796431 0.11953393 0.12104855]\n",
            "10 day output [[0.12251447]]\n",
            "11 day input [0.13119599 0.15902317 0.17016907 0.16974327 0.17282405 0.16546024\n",
            " 0.16418284 0.16235441 0.1702943  0.17392611 0.16350657 0.15479023\n",
            " 0.15539136 0.16518472 0.16458359 0.15539136 0.15143394 0.14396994\n",
            " 0.13332498 0.14001252 0.14529743 0.1459737  0.14116468 0.14958046\n",
            " 0.14875391 0.14108954 0.13139637 0.12673763 0.14053851 0.12944271\n",
            " 0.11994991 0.1096556  0.1208516  0.13212273 0.13470257 0.14311835\n",
            " 0.14662492 0.15524108 0.1587226  0.16839073 0.17001879 0.17222292\n",
            " 0.1806387  0.17765811 0.16974327 0.16899186 0.17933626 0.17087038\n",
            " 0.16278021 0.16355667 0.15842204 0.14755166 0.15233563 0.1591985\n",
            " 0.1463995  0.14584847 0.15168441 0.15125861 0.14922981 0.13763306\n",
            " 0.14036318 0.12513463 0.12455855 0.14226675 0.12726362 0.12804008\n",
            " 0.13184721 0.14822793 0.12505949 0.12633688 0.11326237 0.11939887\n",
            " 0.09933626 0.08946775 0.10086412 0.09693175 0.10619912 0.08510958\n",
            " 0.07641828 0.07701941 0.09084534 0.08395742 0.08435817 0.09252348\n",
            " 0.107201   0.10519724 0.10487163 0.11113338 0.096531   0.10312772\n",
            " 0.10597362 0.10850285 0.1107446  0.11275825 0.11460344 0.11632773\n",
            " 0.11796431 0.11953393 0.12104855 0.12251447]\n",
            "11 day output [[0.12393515]]\n",
            "12 day input [0.15902317 0.17016907 0.16974327 0.17282405 0.16546024 0.16418284\n",
            " 0.16235441 0.1702943  0.17392611 0.16350657 0.15479023 0.15539136\n",
            " 0.16518472 0.16458359 0.15539136 0.15143394 0.14396994 0.13332498\n",
            " 0.14001252 0.14529743 0.1459737  0.14116468 0.14958046 0.14875391\n",
            " 0.14108954 0.13139637 0.12673763 0.14053851 0.12944271 0.11994991\n",
            " 0.1096556  0.1208516  0.13212273 0.13470257 0.14311835 0.14662492\n",
            " 0.15524108 0.1587226  0.16839073 0.17001879 0.17222292 0.1806387\n",
            " 0.17765811 0.16974327 0.16899186 0.17933626 0.17087038 0.16278021\n",
            " 0.16355667 0.15842204 0.14755166 0.15233563 0.1591985  0.1463995\n",
            " 0.14584847 0.15168441 0.15125861 0.14922981 0.13763306 0.14036318\n",
            " 0.12513463 0.12455855 0.14226675 0.12726362 0.12804008 0.13184721\n",
            " 0.14822793 0.12505949 0.12633688 0.11326237 0.11939887 0.09933626\n",
            " 0.08946775 0.10086412 0.09693175 0.10619912 0.08510958 0.07641828\n",
            " 0.07701941 0.09084534 0.08395742 0.08435817 0.09252348 0.107201\n",
            " 0.10519724 0.10487163 0.11113338 0.096531   0.10312772 0.10597362\n",
            " 0.10850285 0.1107446  0.11275825 0.11460344 0.11632773 0.11796431\n",
            " 0.11953393 0.12104855 0.12251447 0.12393515]\n",
            "12 day output [[0.12531269]]\n",
            "13 day input [0.17016907 0.16974327 0.17282405 0.16546024 0.16418284 0.16235441\n",
            " 0.1702943  0.17392611 0.16350657 0.15479023 0.15539136 0.16518472\n",
            " 0.16458359 0.15539136 0.15143394 0.14396994 0.13332498 0.14001252\n",
            " 0.14529743 0.1459737  0.14116468 0.14958046 0.14875391 0.14108954\n",
            " 0.13139637 0.12673763 0.14053851 0.12944271 0.11994991 0.1096556\n",
            " 0.1208516  0.13212273 0.13470257 0.14311835 0.14662492 0.15524108\n",
            " 0.1587226  0.16839073 0.17001879 0.17222292 0.1806387  0.17765811\n",
            " 0.16974327 0.16899186 0.17933626 0.17087038 0.16278021 0.16355667\n",
            " 0.15842204 0.14755166 0.15233563 0.1591985  0.1463995  0.14584847\n",
            " 0.15168441 0.15125861 0.14922981 0.13763306 0.14036318 0.12513463\n",
            " 0.12455855 0.14226675 0.12726362 0.12804008 0.13184721 0.14822793\n",
            " 0.12505949 0.12633688 0.11326237 0.11939887 0.09933626 0.08946775\n",
            " 0.10086412 0.09693175 0.10619912 0.08510958 0.07641828 0.07701941\n",
            " 0.09084534 0.08395742 0.08435817 0.09252348 0.107201   0.10519724\n",
            " 0.10487163 0.11113338 0.096531   0.10312772 0.10597362 0.10850285\n",
            " 0.1107446  0.11275825 0.11460344 0.11632773 0.11796431 0.11953393\n",
            " 0.12104855 0.12251447 0.12393515 0.12531269]\n",
            "13 day output [[0.12664895]]\n",
            "14 day input [0.16974327 0.17282405 0.16546024 0.16418284 0.16235441 0.1702943\n",
            " 0.17392611 0.16350657 0.15479023 0.15539136 0.16518472 0.16458359\n",
            " 0.15539136 0.15143394 0.14396994 0.13332498 0.14001252 0.14529743\n",
            " 0.1459737  0.14116468 0.14958046 0.14875391 0.14108954 0.13139637\n",
            " 0.12673763 0.14053851 0.12944271 0.11994991 0.1096556  0.1208516\n",
            " 0.13212273 0.13470257 0.14311835 0.14662492 0.15524108 0.1587226\n",
            " 0.16839073 0.17001879 0.17222292 0.1806387  0.17765811 0.16974327\n",
            " 0.16899186 0.17933626 0.17087038 0.16278021 0.16355667 0.15842204\n",
            " 0.14755166 0.15233563 0.1591985  0.1463995  0.14584847 0.15168441\n",
            " 0.15125861 0.14922981 0.13763306 0.14036318 0.12513463 0.12455855\n",
            " 0.14226675 0.12726362 0.12804008 0.13184721 0.14822793 0.12505949\n",
            " 0.12633688 0.11326237 0.11939887 0.09933626 0.08946775 0.10086412\n",
            " 0.09693175 0.10619912 0.08510958 0.07641828 0.07701941 0.09084534\n",
            " 0.08395742 0.08435817 0.09252348 0.107201   0.10519724 0.10487163\n",
            " 0.11113338 0.096531   0.10312772 0.10597362 0.10850285 0.1107446\n",
            " 0.11275825 0.11460344 0.11632773 0.11796431 0.11953393 0.12104855\n",
            " 0.12251447 0.12393515 0.12531269 0.12664895]\n",
            "14 day output [[0.12794618]]\n",
            "15 day input [0.17282405 0.16546024 0.16418284 0.16235441 0.1702943  0.17392611\n",
            " 0.16350657 0.15479023 0.15539136 0.16518472 0.16458359 0.15539136\n",
            " 0.15143394 0.14396994 0.13332498 0.14001252 0.14529743 0.1459737\n",
            " 0.14116468 0.14958046 0.14875391 0.14108954 0.13139637 0.12673763\n",
            " 0.14053851 0.12944271 0.11994991 0.1096556  0.1208516  0.13212273\n",
            " 0.13470257 0.14311835 0.14662492 0.15524108 0.1587226  0.16839073\n",
            " 0.17001879 0.17222292 0.1806387  0.17765811 0.16974327 0.16899186\n",
            " 0.17933626 0.17087038 0.16278021 0.16355667 0.15842204 0.14755166\n",
            " 0.15233563 0.1591985  0.1463995  0.14584847 0.15168441 0.15125861\n",
            " 0.14922981 0.13763306 0.14036318 0.12513463 0.12455855 0.14226675\n",
            " 0.12726362 0.12804008 0.13184721 0.14822793 0.12505949 0.12633688\n",
            " 0.11326237 0.11939887 0.09933626 0.08946775 0.10086412 0.09693175\n",
            " 0.10619912 0.08510958 0.07641828 0.07701941 0.09084534 0.08395742\n",
            " 0.08435817 0.09252348 0.107201   0.10519724 0.10487163 0.11113338\n",
            " 0.096531   0.10312772 0.10597362 0.10850285 0.1107446  0.11275825\n",
            " 0.11460344 0.11632773 0.11796431 0.11953393 0.12104855 0.12251447\n",
            " 0.12393515 0.12531269 0.12664895 0.12794618]\n",
            "15 day output [[0.12920682]]\n",
            "16 day input [0.16546024 0.16418284 0.16235441 0.1702943  0.17392611 0.16350657\n",
            " 0.15479023 0.15539136 0.16518472 0.16458359 0.15539136 0.15143394\n",
            " 0.14396994 0.13332498 0.14001252 0.14529743 0.1459737  0.14116468\n",
            " 0.14958046 0.14875391 0.14108954 0.13139637 0.12673763 0.14053851\n",
            " 0.12944271 0.11994991 0.1096556  0.1208516  0.13212273 0.13470257\n",
            " 0.14311835 0.14662492 0.15524108 0.1587226  0.16839073 0.17001879\n",
            " 0.17222292 0.1806387  0.17765811 0.16974327 0.16899186 0.17933626\n",
            " 0.17087038 0.16278021 0.16355667 0.15842204 0.14755166 0.15233563\n",
            " 0.1591985  0.1463995  0.14584847 0.15168441 0.15125861 0.14922981\n",
            " 0.13763306 0.14036318 0.12513463 0.12455855 0.14226675 0.12726362\n",
            " 0.12804008 0.13184721 0.14822793 0.12505949 0.12633688 0.11326237\n",
            " 0.11939887 0.09933626 0.08946775 0.10086412 0.09693175 0.10619912\n",
            " 0.08510958 0.07641828 0.07701941 0.09084534 0.08395742 0.08435817\n",
            " 0.09252348 0.107201   0.10519724 0.10487163 0.11113338 0.096531\n",
            " 0.10312772 0.10597362 0.10850285 0.1107446  0.11275825 0.11460344\n",
            " 0.11632773 0.11796431 0.11953393 0.12104855 0.12251447 0.12393515\n",
            " 0.12531269 0.12664895 0.12794618 0.12920682]\n",
            "16 day output [[0.13043378]]\n",
            "17 day input [0.16418284 0.16235441 0.1702943  0.17392611 0.16350657 0.15479023\n",
            " 0.15539136 0.16518472 0.16458359 0.15539136 0.15143394 0.14396994\n",
            " 0.13332498 0.14001252 0.14529743 0.1459737  0.14116468 0.14958046\n",
            " 0.14875391 0.14108954 0.13139637 0.12673763 0.14053851 0.12944271\n",
            " 0.11994991 0.1096556  0.1208516  0.13212273 0.13470257 0.14311835\n",
            " 0.14662492 0.15524108 0.1587226  0.16839073 0.17001879 0.17222292\n",
            " 0.1806387  0.17765811 0.16974327 0.16899186 0.17933626 0.17087038\n",
            " 0.16278021 0.16355667 0.15842204 0.14755166 0.15233563 0.1591985\n",
            " 0.1463995  0.14584847 0.15168441 0.15125861 0.14922981 0.13763306\n",
            " 0.14036318 0.12513463 0.12455855 0.14226675 0.12726362 0.12804008\n",
            " 0.13184721 0.14822793 0.12505949 0.12633688 0.11326237 0.11939887\n",
            " 0.09933626 0.08946775 0.10086412 0.09693175 0.10619912 0.08510958\n",
            " 0.07641828 0.07701941 0.09084534 0.08395742 0.08435817 0.09252348\n",
            " 0.107201   0.10519724 0.10487163 0.11113338 0.096531   0.10312772\n",
            " 0.10597362 0.10850285 0.1107446  0.11275825 0.11460344 0.11632773\n",
            " 0.11796431 0.11953393 0.12104855 0.12251447 0.12393515 0.12531269\n",
            " 0.12664895 0.12794618 0.12920682 0.13043378]\n",
            "17 day output [[0.13163024]]\n",
            "18 day input [0.16235441 0.1702943  0.17392611 0.16350657 0.15479023 0.15539136\n",
            " 0.16518472 0.16458359 0.15539136 0.15143394 0.14396994 0.13332498\n",
            " 0.14001252 0.14529743 0.1459737  0.14116468 0.14958046 0.14875391\n",
            " 0.14108954 0.13139637 0.12673763 0.14053851 0.12944271 0.11994991\n",
            " 0.1096556  0.1208516  0.13212273 0.13470257 0.14311835 0.14662492\n",
            " 0.15524108 0.1587226  0.16839073 0.17001879 0.17222292 0.1806387\n",
            " 0.17765811 0.16974327 0.16899186 0.17933626 0.17087038 0.16278021\n",
            " 0.16355667 0.15842204 0.14755166 0.15233563 0.1591985  0.1463995\n",
            " 0.14584847 0.15168441 0.15125861 0.14922981 0.13763306 0.14036318\n",
            " 0.12513463 0.12455855 0.14226675 0.12726362 0.12804008 0.13184721\n",
            " 0.14822793 0.12505949 0.12633688 0.11326237 0.11939887 0.09933626\n",
            " 0.08946775 0.10086412 0.09693175 0.10619912 0.08510958 0.07641828\n",
            " 0.07701941 0.09084534 0.08395742 0.08435817 0.09252348 0.107201\n",
            " 0.10519724 0.10487163 0.11113338 0.096531   0.10312772 0.10597362\n",
            " 0.10850285 0.1107446  0.11275825 0.11460344 0.11632773 0.11796431\n",
            " 0.11953393 0.12104855 0.12251447 0.12393515 0.12531269 0.12664895\n",
            " 0.12794618 0.12920682 0.13043378 0.13163024]\n",
            "18 day output [[0.13279942]]\n",
            "19 day input [0.1702943  0.17392611 0.16350657 0.15479023 0.15539136 0.16518472\n",
            " 0.16458359 0.15539136 0.15143394 0.14396994 0.13332498 0.14001252\n",
            " 0.14529743 0.1459737  0.14116468 0.14958046 0.14875391 0.14108954\n",
            " 0.13139637 0.12673763 0.14053851 0.12944271 0.11994991 0.1096556\n",
            " 0.1208516  0.13212273 0.13470257 0.14311835 0.14662492 0.15524108\n",
            " 0.1587226  0.16839073 0.17001879 0.17222292 0.1806387  0.17765811\n",
            " 0.16974327 0.16899186 0.17933626 0.17087038 0.16278021 0.16355667\n",
            " 0.15842204 0.14755166 0.15233563 0.1591985  0.1463995  0.14584847\n",
            " 0.15168441 0.15125861 0.14922981 0.13763306 0.14036318 0.12513463\n",
            " 0.12455855 0.14226675 0.12726362 0.12804008 0.13184721 0.14822793\n",
            " 0.12505949 0.12633688 0.11326237 0.11939887 0.09933626 0.08946775\n",
            " 0.10086412 0.09693175 0.10619912 0.08510958 0.07641828 0.07701941\n",
            " 0.09084534 0.08395742 0.08435817 0.09252348 0.107201   0.10519724\n",
            " 0.10487163 0.11113338 0.096531   0.10312772 0.10597362 0.10850285\n",
            " 0.1107446  0.11275825 0.11460344 0.11632773 0.11796431 0.11953393\n",
            " 0.12104855 0.12251447 0.12393515 0.12531269 0.12664895 0.12794618\n",
            " 0.12920682 0.13043378 0.13163024 0.13279942]\n",
            "19 day output [[0.13394453]]\n",
            "20 day input [0.17392611 0.16350657 0.15479023 0.15539136 0.16518472 0.16458359\n",
            " 0.15539136 0.15143394 0.14396994 0.13332498 0.14001252 0.14529743\n",
            " 0.1459737  0.14116468 0.14958046 0.14875391 0.14108954 0.13139637\n",
            " 0.12673763 0.14053851 0.12944271 0.11994991 0.1096556  0.1208516\n",
            " 0.13212273 0.13470257 0.14311835 0.14662492 0.15524108 0.1587226\n",
            " 0.16839073 0.17001879 0.17222292 0.1806387  0.17765811 0.16974327\n",
            " 0.16899186 0.17933626 0.17087038 0.16278021 0.16355667 0.15842204\n",
            " 0.14755166 0.15233563 0.1591985  0.1463995  0.14584847 0.15168441\n",
            " 0.15125861 0.14922981 0.13763306 0.14036318 0.12513463 0.12455855\n",
            " 0.14226675 0.12726362 0.12804008 0.13184721 0.14822793 0.12505949\n",
            " 0.12633688 0.11326237 0.11939887 0.09933626 0.08946775 0.10086412\n",
            " 0.09693175 0.10619912 0.08510958 0.07641828 0.07701941 0.09084534\n",
            " 0.08395742 0.08435817 0.09252348 0.107201   0.10519724 0.10487163\n",
            " 0.11113338 0.096531   0.10312772 0.10597362 0.10850285 0.1107446\n",
            " 0.11275825 0.11460344 0.11632773 0.11796431 0.11953393 0.12104855\n",
            " 0.12251447 0.12393515 0.12531269 0.12664895 0.12794618 0.12920682\n",
            " 0.13043378 0.13163024 0.13279942 0.13394453]\n",
            "20 day output [[0.13506876]]\n",
            "21 day input [0.16350657 0.15479023 0.15539136 0.16518472 0.16458359 0.15539136\n",
            " 0.15143394 0.14396994 0.13332498 0.14001252 0.14529743 0.1459737\n",
            " 0.14116468 0.14958046 0.14875391 0.14108954 0.13139637 0.12673763\n",
            " 0.14053851 0.12944271 0.11994991 0.1096556  0.1208516  0.13212273\n",
            " 0.13470257 0.14311835 0.14662492 0.15524108 0.1587226  0.16839073\n",
            " 0.17001879 0.17222292 0.1806387  0.17765811 0.16974327 0.16899186\n",
            " 0.17933626 0.17087038 0.16278021 0.16355667 0.15842204 0.14755166\n",
            " 0.15233563 0.1591985  0.1463995  0.14584847 0.15168441 0.15125861\n",
            " 0.14922981 0.13763306 0.14036318 0.12513463 0.12455855 0.14226675\n",
            " 0.12726362 0.12804008 0.13184721 0.14822793 0.12505949 0.12633688\n",
            " 0.11326237 0.11939887 0.09933626 0.08946775 0.10086412 0.09693175\n",
            " 0.10619912 0.08510958 0.07641828 0.07701941 0.09084534 0.08395742\n",
            " 0.08435817 0.09252348 0.107201   0.10519724 0.10487163 0.11113338\n",
            " 0.096531   0.10312772 0.10597362 0.10850285 0.1107446  0.11275825\n",
            " 0.11460344 0.11632773 0.11796431 0.11953393 0.12104855 0.12251447\n",
            " 0.12393515 0.12531269 0.12664895 0.12794618 0.12920682 0.13043378\n",
            " 0.13163024 0.13279942 0.13394453 0.13506876]\n",
            "21 day output [[0.13617507]]\n",
            "22 day input [0.15479023 0.15539136 0.16518472 0.16458359 0.15539136 0.15143394\n",
            " 0.14396994 0.13332498 0.14001252 0.14529743 0.1459737  0.14116468\n",
            " 0.14958046 0.14875391 0.14108954 0.13139637 0.12673763 0.14053851\n",
            " 0.12944271 0.11994991 0.1096556  0.1208516  0.13212273 0.13470257\n",
            " 0.14311835 0.14662492 0.15524108 0.1587226  0.16839073 0.17001879\n",
            " 0.17222292 0.1806387  0.17765811 0.16974327 0.16899186 0.17933626\n",
            " 0.17087038 0.16278021 0.16355667 0.15842204 0.14755166 0.15233563\n",
            " 0.1591985  0.1463995  0.14584847 0.15168441 0.15125861 0.14922981\n",
            " 0.13763306 0.14036318 0.12513463 0.12455855 0.14226675 0.12726362\n",
            " 0.12804008 0.13184721 0.14822793 0.12505949 0.12633688 0.11326237\n",
            " 0.11939887 0.09933626 0.08946775 0.10086412 0.09693175 0.10619912\n",
            " 0.08510958 0.07641828 0.07701941 0.09084534 0.08395742 0.08435817\n",
            " 0.09252348 0.107201   0.10519724 0.10487163 0.11113338 0.096531\n",
            " 0.10312772 0.10597362 0.10850285 0.1107446  0.11275825 0.11460344\n",
            " 0.11632773 0.11796431 0.11953393 0.12104855 0.12251447 0.12393515\n",
            " 0.12531269 0.12664895 0.12794618 0.12920682 0.13043378 0.13163024\n",
            " 0.13279942 0.13394453 0.13506876 0.13617507]\n",
            "22 day output [[0.13726617]]\n",
            "23 day input [0.15539136 0.16518472 0.16458359 0.15539136 0.15143394 0.14396994\n",
            " 0.13332498 0.14001252 0.14529743 0.1459737  0.14116468 0.14958046\n",
            " 0.14875391 0.14108954 0.13139637 0.12673763 0.14053851 0.12944271\n",
            " 0.11994991 0.1096556  0.1208516  0.13212273 0.13470257 0.14311835\n",
            " 0.14662492 0.15524108 0.1587226  0.16839073 0.17001879 0.17222292\n",
            " 0.1806387  0.17765811 0.16974327 0.16899186 0.17933626 0.17087038\n",
            " 0.16278021 0.16355667 0.15842204 0.14755166 0.15233563 0.1591985\n",
            " 0.1463995  0.14584847 0.15168441 0.15125861 0.14922981 0.13763306\n",
            " 0.14036318 0.12513463 0.12455855 0.14226675 0.12726362 0.12804008\n",
            " 0.13184721 0.14822793 0.12505949 0.12633688 0.11326237 0.11939887\n",
            " 0.09933626 0.08946775 0.10086412 0.09693175 0.10619912 0.08510958\n",
            " 0.07641828 0.07701941 0.09084534 0.08395742 0.08435817 0.09252348\n",
            " 0.107201   0.10519724 0.10487163 0.11113338 0.096531   0.10312772\n",
            " 0.10597362 0.10850285 0.1107446  0.11275825 0.11460344 0.11632773\n",
            " 0.11796431 0.11953393 0.12104855 0.12251447 0.12393515 0.12531269\n",
            " 0.12664895 0.12794618 0.12920682 0.13043378 0.13163024 0.13279942\n",
            " 0.13394453 0.13506876 0.13617507 0.13726617]\n",
            "23 day output [[0.1383446]]\n",
            "24 day input [0.16518472 0.16458359 0.15539136 0.15143394 0.14396994 0.13332498\n",
            " 0.14001252 0.14529743 0.1459737  0.14116468 0.14958046 0.14875391\n",
            " 0.14108954 0.13139637 0.12673763 0.14053851 0.12944271 0.11994991\n",
            " 0.1096556  0.1208516  0.13212273 0.13470257 0.14311835 0.14662492\n",
            " 0.15524108 0.1587226  0.16839073 0.17001879 0.17222292 0.1806387\n",
            " 0.17765811 0.16974327 0.16899186 0.17933626 0.17087038 0.16278021\n",
            " 0.16355667 0.15842204 0.14755166 0.15233563 0.1591985  0.1463995\n",
            " 0.14584847 0.15168441 0.15125861 0.14922981 0.13763306 0.14036318\n",
            " 0.12513463 0.12455855 0.14226675 0.12726362 0.12804008 0.13184721\n",
            " 0.14822793 0.12505949 0.12633688 0.11326237 0.11939887 0.09933626\n",
            " 0.08946775 0.10086412 0.09693175 0.10619912 0.08510958 0.07641828\n",
            " 0.07701941 0.09084534 0.08395742 0.08435817 0.09252348 0.107201\n",
            " 0.10519724 0.10487163 0.11113338 0.096531   0.10312772 0.10597362\n",
            " 0.10850285 0.1107446  0.11275825 0.11460344 0.11632773 0.11796431\n",
            " 0.11953393 0.12104855 0.12251447 0.12393515 0.12531269 0.12664895\n",
            " 0.12794618 0.12920682 0.13043378 0.13163024 0.13279942 0.13394453\n",
            " 0.13506876 0.13617507 0.13726617 0.1383446 ]\n",
            "24 day output [[0.13941258]]\n",
            "25 day input [0.16458359 0.15539136 0.15143394 0.14396994 0.13332498 0.14001252\n",
            " 0.14529743 0.1459737  0.14116468 0.14958046 0.14875391 0.14108954\n",
            " 0.13139637 0.12673763 0.14053851 0.12944271 0.11994991 0.1096556\n",
            " 0.1208516  0.13212273 0.13470257 0.14311835 0.14662492 0.15524108\n",
            " 0.1587226  0.16839073 0.17001879 0.17222292 0.1806387  0.17765811\n",
            " 0.16974327 0.16899186 0.17933626 0.17087038 0.16278021 0.16355667\n",
            " 0.15842204 0.14755166 0.15233563 0.1591985  0.1463995  0.14584847\n",
            " 0.15168441 0.15125861 0.14922981 0.13763306 0.14036318 0.12513463\n",
            " 0.12455855 0.14226675 0.12726362 0.12804008 0.13184721 0.14822793\n",
            " 0.12505949 0.12633688 0.11326237 0.11939887 0.09933626 0.08946775\n",
            " 0.10086412 0.09693175 0.10619912 0.08510958 0.07641828 0.07701941\n",
            " 0.09084534 0.08395742 0.08435817 0.09252348 0.107201   0.10519724\n",
            " 0.10487163 0.11113338 0.096531   0.10312772 0.10597362 0.10850285\n",
            " 0.1107446  0.11275825 0.11460344 0.11632773 0.11796431 0.11953393\n",
            " 0.12104855 0.12251447 0.12393515 0.12531269 0.12664895 0.12794618\n",
            " 0.12920682 0.13043378 0.13163024 0.13279942 0.13394453 0.13506876\n",
            " 0.13617507 0.13726617 0.1383446  0.13941258]\n",
            "25 day output [[0.14047208]]\n",
            "26 day input [0.15539136 0.15143394 0.14396994 0.13332498 0.14001252 0.14529743\n",
            " 0.1459737  0.14116468 0.14958046 0.14875391 0.14108954 0.13139637\n",
            " 0.12673763 0.14053851 0.12944271 0.11994991 0.1096556  0.1208516\n",
            " 0.13212273 0.13470257 0.14311835 0.14662492 0.15524108 0.1587226\n",
            " 0.16839073 0.17001879 0.17222292 0.1806387  0.17765811 0.16974327\n",
            " 0.16899186 0.17933626 0.17087038 0.16278021 0.16355667 0.15842204\n",
            " 0.14755166 0.15233563 0.1591985  0.1463995  0.14584847 0.15168441\n",
            " 0.15125861 0.14922981 0.13763306 0.14036318 0.12513463 0.12455855\n",
            " 0.14226675 0.12726362 0.12804008 0.13184721 0.14822793 0.12505949\n",
            " 0.12633688 0.11326237 0.11939887 0.09933626 0.08946775 0.10086412\n",
            " 0.09693175 0.10619912 0.08510958 0.07641828 0.07701941 0.09084534\n",
            " 0.08395742 0.08435817 0.09252348 0.107201   0.10519724 0.10487163\n",
            " 0.11113338 0.096531   0.10312772 0.10597362 0.10850285 0.1107446\n",
            " 0.11275825 0.11460344 0.11632773 0.11796431 0.11953393 0.12104855\n",
            " 0.12251447 0.12393515 0.12531269 0.12664895 0.12794618 0.12920682\n",
            " 0.13043378 0.13163024 0.13279942 0.13394453 0.13506876 0.13617507\n",
            " 0.13726617 0.1383446  0.13941258 0.14047208]\n",
            "26 day output [[0.14152487]]\n",
            "27 day input [0.15143394 0.14396994 0.13332498 0.14001252 0.14529743 0.1459737\n",
            " 0.14116468 0.14958046 0.14875391 0.14108954 0.13139637 0.12673763\n",
            " 0.14053851 0.12944271 0.11994991 0.1096556  0.1208516  0.13212273\n",
            " 0.13470257 0.14311835 0.14662492 0.15524108 0.1587226  0.16839073\n",
            " 0.17001879 0.17222292 0.1806387  0.17765811 0.16974327 0.16899186\n",
            " 0.17933626 0.17087038 0.16278021 0.16355667 0.15842204 0.14755166\n",
            " 0.15233563 0.1591985  0.1463995  0.14584847 0.15168441 0.15125861\n",
            " 0.14922981 0.13763306 0.14036318 0.12513463 0.12455855 0.14226675\n",
            " 0.12726362 0.12804008 0.13184721 0.14822793 0.12505949 0.12633688\n",
            " 0.11326237 0.11939887 0.09933626 0.08946775 0.10086412 0.09693175\n",
            " 0.10619912 0.08510958 0.07641828 0.07701941 0.09084534 0.08395742\n",
            " 0.08435817 0.09252348 0.107201   0.10519724 0.10487163 0.11113338\n",
            " 0.096531   0.10312772 0.10597362 0.10850285 0.1107446  0.11275825\n",
            " 0.11460344 0.11632773 0.11796431 0.11953393 0.12104855 0.12251447\n",
            " 0.12393515 0.12531269 0.12664895 0.12794618 0.12920682 0.13043378\n",
            " 0.13163024 0.13279942 0.13394453 0.13506876 0.13617507 0.13726617\n",
            " 0.1383446  0.13941258 0.14047208 0.14152487]\n",
            "27 day output [[0.14257233]]\n",
            "28 day input [0.14396994 0.13332498 0.14001252 0.14529743 0.1459737  0.14116468\n",
            " 0.14958046 0.14875391 0.14108954 0.13139637 0.12673763 0.14053851\n",
            " 0.12944271 0.11994991 0.1096556  0.1208516  0.13212273 0.13470257\n",
            " 0.14311835 0.14662492 0.15524108 0.1587226  0.16839073 0.17001879\n",
            " 0.17222292 0.1806387  0.17765811 0.16974327 0.16899186 0.17933626\n",
            " 0.17087038 0.16278021 0.16355667 0.15842204 0.14755166 0.15233563\n",
            " 0.1591985  0.1463995  0.14584847 0.15168441 0.15125861 0.14922981\n",
            " 0.13763306 0.14036318 0.12513463 0.12455855 0.14226675 0.12726362\n",
            " 0.12804008 0.13184721 0.14822793 0.12505949 0.12633688 0.11326237\n",
            " 0.11939887 0.09933626 0.08946775 0.10086412 0.09693175 0.10619912\n",
            " 0.08510958 0.07641828 0.07701941 0.09084534 0.08395742 0.08435817\n",
            " 0.09252348 0.107201   0.10519724 0.10487163 0.11113338 0.096531\n",
            " 0.10312772 0.10597362 0.10850285 0.1107446  0.11275825 0.11460344\n",
            " 0.11632773 0.11796431 0.11953393 0.12104855 0.12251447 0.12393515\n",
            " 0.12531269 0.12664895 0.12794618 0.12920682 0.13043378 0.13163024\n",
            " 0.13279942 0.13394453 0.13506876 0.13617507 0.13726617 0.1383446\n",
            " 0.13941258 0.14047208 0.14152487 0.14257233]\n",
            "28 day output [[0.14361584]]\n",
            "29 day input [0.13332498 0.14001252 0.14529743 0.1459737  0.14116468 0.14958046\n",
            " 0.14875391 0.14108954 0.13139637 0.12673763 0.14053851 0.12944271\n",
            " 0.11994991 0.1096556  0.1208516  0.13212273 0.13470257 0.14311835\n",
            " 0.14662492 0.15524108 0.1587226  0.16839073 0.17001879 0.17222292\n",
            " 0.1806387  0.17765811 0.16974327 0.16899186 0.17933626 0.17087038\n",
            " 0.16278021 0.16355667 0.15842204 0.14755166 0.15233563 0.1591985\n",
            " 0.1463995  0.14584847 0.15168441 0.15125861 0.14922981 0.13763306\n",
            " 0.14036318 0.12513463 0.12455855 0.14226675 0.12726362 0.12804008\n",
            " 0.13184721 0.14822793 0.12505949 0.12633688 0.11326237 0.11939887\n",
            " 0.09933626 0.08946775 0.10086412 0.09693175 0.10619912 0.08510958\n",
            " 0.07641828 0.07701941 0.09084534 0.08395742 0.08435817 0.09252348\n",
            " 0.107201   0.10519724 0.10487163 0.11113338 0.096531   0.10312772\n",
            " 0.10597362 0.10850285 0.1107446  0.11275825 0.11460344 0.11632773\n",
            " 0.11796431 0.11953393 0.12104855 0.12251447 0.12393515 0.12531269\n",
            " 0.12664895 0.12794618 0.12920682 0.13043378 0.13163024 0.13279942\n",
            " 0.13394453 0.13506876 0.13617507 0.13726617 0.1383446  0.13941258\n",
            " 0.14047208 0.14152487 0.14257233 0.14361584]\n",
            "29 day output [[0.14465633]]\n",
            "[[0.10312771797180176], [0.10597361624240875], [0.10850284993648529], [0.11074459552764893], [0.11275824904441833], [0.1146034449338913], [0.11632773280143738], [0.11796431243419647], [0.11953392624855042], [0.12104855477809906], [0.12251447141170502], [0.12393514811992645], [0.1253126859664917], [0.12664894759655], [0.1279461830854416], [0.1292068213224411], [0.13043378293514252], [0.13163024187088013], [0.1327994167804718], [0.1339445263147354], [0.13506875932216644], [0.13617506623268127], [0.13726617395877838], [0.13834460079669952], [0.13941258192062378], [0.14047208428382874], [0.14152486622333527], [0.1425723284482956], [0.14361584186553955], [0.14465633034706116]]\n"
          ]
        }
      ]
    },
    {
      "cell_type": "code",
      "source": [
        "day_new=np.arange(1,101)\n",
        "day_pred=np.arange(101,131)"
      ],
      "metadata": {
        "id": "FY_fNWDP4PFG"
      },
      "execution_count": null,
      "outputs": []
    },
    {
      "cell_type": "code",
      "source": [
        "import matplotlib.pyplot as plt"
      ],
      "metadata": {
        "id": "ZeCLRtQ64RSP"
      },
      "execution_count": null,
      "outputs": []
    },
    {
      "cell_type": "code",
      "source": [
        "len(df1)"
      ],
      "metadata": {
        "colab": {
          "base_uri": "https://localhost:8080/"
        },
        "id": "ieb60mHr4U3m",
        "outputId": "2b4ea98b-8eeb-4dd2-b695-8cfed9ce601b"
      },
      "execution_count": null,
      "outputs": [
        {
          "output_type": "execute_result",
          "data": {
            "text/plain": [
              "1258"
            ]
          },
          "metadata": {},
          "execution_count": 40
        }
      ]
    },
    {
      "cell_type": "code",
      "source": [
        "plt.plot(day_new,scaler.inverse_transform(df1[1158:]))\n",
        "plt.plot(day_pred,scaler.inverse_transform(lst_output))"
      ],
      "metadata": {
        "colab": {
          "base_uri": "https://localhost:8080/",
          "height": 283
        },
        "id": "cLV0RSLf4WNk",
        "outputId": "ce63eb3a-e6e8-4d90-d653-fc836c7df0a3"
      },
      "execution_count": null,
      "outputs": [
        {
          "output_type": "execute_result",
          "data": {
            "text/plain": [
              "[<matplotlib.lines.Line2D at 0x7f9b535deb10>]"
            ]
          },
          "metadata": {},
          "execution_count": 41
        },
        {
          "output_type": "display_data",
          "data": {
            "text/plain": [
              "<Figure size 432x288 with 1 Axes>"
            ],
            "image/png": "[encoded data removed]"
          },
          "metadata": {
            "needs_background": "light"
          }
        }
      ]
    },
    {
      "cell_type": "code",
      "source": [
        "df3=df1.tolist()\n",
        "df3.extend(lst_output)\n",
        "plt.plot(df3[1200:])"
      ],
      "metadata": {
        "colab": {
          "base_uri": "https://localhost:8080/",
          "height": 283
        },
        "id": "ndAoEcWl4X0L",
        "outputId": "5e138eab-076e-46ef-c89f-40d7505d1a2d"
      },
      "execution_count": null,
      "outputs": [
        {
          "output_type": "execute_result",
          "data": {
            "text/plain": [
              "[<matplotlib.lines.Line2D at 0x7f9b518fdf10>]"
            ]
          },
          "metadata": {},
          "execution_count": 42
        },
        {
          "output_type": "display_data",
          "data": {
            "text/plain": [
              "<Figure size 432x288 with 1 Axes>"
            ],
            "image/png": "[encoded data removed]"
          },
          "metadata": {
            "needs_background": "light"
          }
        }
      ]
    },
    {
      "cell_type": "code",
      "source": [
        "df3=scaler.inverse_transform(df3).tolist()"
      ],
      "metadata": {
        "id": "juuxgINC4Zgx"
      },
      "execution_count": null,
      "outputs": []
    },
    {
      "cell_type": "code",
      "source": [
        "plt.plot(df3)"
      ],
      "metadata": {
        "id": "Wutt171v4b3H",
        "outputId": "3d9fbb5d-c464-4796-ba2b-4c195bf1b8c4",
        "colab": {
          "base_uri": "https://localhost:8080/",
          "height": 283
        }
      },
      "execution_count": null,
      "outputs": [
        {
          "output_type": "execute_result",
          "data": {
            "text/plain": [
              "[<matplotlib.lines.Line2D at 0x7f9b53611290>]"
            ]
          },
          "metadata": {},
          "execution_count": 44
        },
        {
          "output_type": "display_data",
          "data": {
            "text/plain": [
              "<Figure size 432x288 with 1 Axes>"
            ],
            "image/png": "[encoded data removed]"
          },
          "metadata": {
            "needs_background": "light"
          }
        }
      ]
    }
  ]
}